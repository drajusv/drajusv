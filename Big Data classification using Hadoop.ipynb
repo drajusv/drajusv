{
 "cells": [
  {
   "cell_type": "code",
   "execution_count": 1,
   "id": "7917c509",
   "metadata": {},
   "outputs": [],
   "source": [
    "import findspark"
   ]
  },
  {
   "cell_type": "code",
   "execution_count": 2,
   "id": "ccd33fbe",
   "metadata": {},
   "outputs": [],
   "source": [
    "findspark.init()"
   ]
  },
  {
   "cell_type": "code",
   "execution_count": 3,
   "id": "37120b84",
   "metadata": {
    "scrolled": true
   },
   "outputs": [
    {
     "data": {
      "text/plain": [
       "'C:\\\\spark-3.3.1-bin-hadoop2'"
      ]
     },
     "execution_count": 3,
     "metadata": {},
     "output_type": "execute_result"
    }
   ],
   "source": [
    "findspark.find()"
   ]
  },
  {
   "cell_type": "markdown",
   "id": "e4a970e5",
   "metadata": {},
   "source": [
    "# method 1 reading csv file into spark session directly from local"
   ]
  },
  {
   "cell_type": "code",
   "execution_count": 4,
   "id": "3d03f669",
   "metadata": {},
   "outputs": [],
   "source": [
    "\n",
    "from pyspark.sql import SparkSession\n",
    "from pyspark.sql.functions import col, cast, count, isnan, isnull, when\n"
   ]
  },
  {
   "cell_type": "code",
   "execution_count": 5,
   "id": "96e09c97",
   "metadata": {},
   "outputs": [],
   "source": [
    "spark = SparkSession.builder.appName(\"diabet\").master(\"local[2]\").getOrCreate()"
   ]
  },
  {
   "cell_type": "code",
   "execution_count": 6,
   "id": "05ff8f83",
   "metadata": {},
   "outputs": [
    {
     "data": {
      "text/html": [
       "\n",
       "            <div>\n",
       "                <p><b>SparkSession - in-memory</b></p>\n",
       "                \n",
       "        <div>\n",
       "            <p><b>SparkContext</b></p>\n",
       "\n",
       "            <p><a href=\"http://192.168.1.9:4040\">Spark UI</a></p>\n",
       "\n",
       "            <dl>\n",
       "              <dt>Version</dt>\n",
       "                <dd><code>v3.3.1</code></dd>\n",
       "              <dt>Master</dt>\n",
       "                <dd><code>local[2]</code></dd>\n",
       "              <dt>AppName</dt>\n",
       "                <dd><code>diabet</code></dd>\n",
       "            </dl>\n",
       "        </div>\n",
       "        \n",
       "            </div>\n",
       "        "
      ],
      "text/plain": [
       "<pyspark.sql.session.SparkSession at 0x1d239d44df0>"
      ]
     },
     "execution_count": 6,
     "metadata": {},
     "output_type": "execute_result"
    }
   ],
   "source": [
    "spark"
   ]
  },
  {
   "cell_type": "code",
   "execution_count": 7,
   "id": "abaf21b5",
   "metadata": {},
   "outputs": [],
   "source": [
    "#spark.sparkContext.setSystemProperty()"
   ]
  },
  {
   "cell_type": "code",
   "execution_count": 8,
   "id": "80e8c65a",
   "metadata": {},
   "outputs": [
    {
     "name": "stdout",
     "output_type": "stream",
     "text": [
      "2\n"
     ]
    }
   ],
   "source": [
    "rawd = spark.read.csv(\"../drang/Downloads/misc/diabetes.csv\", header=True)\n",
    "df = spark.range(0,20)\n",
    "print(df.rdd.getNumPartitions())"
   ]
  },
  {
   "cell_type": "code",
   "execution_count": 9,
   "id": "aa0f083a",
   "metadata": {},
   "outputs": [
    {
     "data": {
      "text/plain": [
       "2"
      ]
     },
     "execution_count": 9,
     "metadata": {},
     "output_type": "execute_result"
    }
   ],
   "source": [
    "rawd.rdd.getNumPartitions()"
   ]
  },
  {
   "cell_type": "markdown",
   "id": "553c67b0",
   "metadata": {},
   "source": [
    "#  method 2 creating DB from csv local file and updating to server"
   ]
  },
  {
   "cell_type": "code",
   "execution_count": 10,
   "id": "a94d1060",
   "metadata": {},
   "outputs": [
    {
     "ename": "PermissionError",
     "evalue": "[Errno 13] Permission denied: 'C:\\\\Users\\\\drang\\\\Downloads\\\\misc\\\\diabetes.csv'",
     "output_type": "error",
     "traceback": [
      "\u001b[1;31m---------------------------------------------------------------------------\u001b[0m",
      "\u001b[1;31mPermissionError\u001b[0m                           Traceback (most recent call last)",
      "Cell \u001b[1;32mIn [10], line 4\u001b[0m\n\u001b[0;32m      1\u001b[0m \u001b[38;5;66;03m#method 2 creating DB from csv local file and updating to server\u001b[39;00m\n\u001b[0;32m      2\u001b[0m \u001b[38;5;28;01mimport\u001b[39;00m \u001b[38;5;21;01mpandas\u001b[39;00m \u001b[38;5;28;01mas\u001b[39;00m \u001b[38;5;21;01mpd\u001b[39;00m\n\u001b[1;32m----> 4\u001b[0m data \u001b[38;5;241m=\u001b[39m \u001b[43mpd\u001b[49m\u001b[38;5;241;43m.\u001b[39;49m\u001b[43mread_csv\u001b[49m\u001b[43m(\u001b[49m\u001b[38;5;124;43mr\u001b[39;49m\u001b[38;5;124;43m\"\u001b[39;49m\u001b[38;5;124;43mC:\u001b[39;49m\u001b[38;5;124;43m\\\u001b[39;49m\u001b[38;5;124;43mUsers\u001b[39;49m\u001b[38;5;124;43m\\\u001b[39;49m\u001b[38;5;124;43mdrang\u001b[39;49m\u001b[38;5;124;43m\\\u001b[39;49m\u001b[38;5;124;43mDownloads\u001b[39;49m\u001b[38;5;124;43m\\\u001b[39;49m\u001b[38;5;124;43mmisc\u001b[39;49m\u001b[38;5;124;43m\\\u001b[39;49m\u001b[38;5;124;43mdiabetes.csv\u001b[39;49m\u001b[38;5;124;43m\"\u001b[39;49m\u001b[43m)\u001b[49m\n",
      "File \u001b[1;32m~\\anaconda3\\envs\\CV0\\lib\\site-packages\\pandas\\util\\_decorators.py:211\u001b[0m, in \u001b[0;36mdeprecate_kwarg.<locals>._deprecate_kwarg.<locals>.wrapper\u001b[1;34m(*args, **kwargs)\u001b[0m\n\u001b[0;32m    209\u001b[0m     \u001b[38;5;28;01melse\u001b[39;00m:\n\u001b[0;32m    210\u001b[0m         kwargs[new_arg_name] \u001b[38;5;241m=\u001b[39m new_arg_value\n\u001b[1;32m--> 211\u001b[0m \u001b[38;5;28;01mreturn\u001b[39;00m \u001b[43mfunc\u001b[49m\u001b[43m(\u001b[49m\u001b[38;5;241;43m*\u001b[39;49m\u001b[43margs\u001b[49m\u001b[43m,\u001b[49m\u001b[43m \u001b[49m\u001b[38;5;241;43m*\u001b[39;49m\u001b[38;5;241;43m*\u001b[39;49m\u001b[43mkwargs\u001b[49m\u001b[43m)\u001b[49m\n",
      "File \u001b[1;32m~\\anaconda3\\envs\\CV0\\lib\\site-packages\\pandas\\util\\_decorators.py:331\u001b[0m, in \u001b[0;36mdeprecate_nonkeyword_arguments.<locals>.decorate.<locals>.wrapper\u001b[1;34m(*args, **kwargs)\u001b[0m\n\u001b[0;32m    325\u001b[0m \u001b[38;5;28;01mif\u001b[39;00m \u001b[38;5;28mlen\u001b[39m(args) \u001b[38;5;241m>\u001b[39m num_allow_args:\n\u001b[0;32m    326\u001b[0m     warnings\u001b[38;5;241m.\u001b[39mwarn(\n\u001b[0;32m    327\u001b[0m         msg\u001b[38;5;241m.\u001b[39mformat(arguments\u001b[38;5;241m=\u001b[39m_format_argument_list(allow_args)),\n\u001b[0;32m    328\u001b[0m         \u001b[38;5;167;01mFutureWarning\u001b[39;00m,\n\u001b[0;32m    329\u001b[0m         stacklevel\u001b[38;5;241m=\u001b[39mfind_stack_level(),\n\u001b[0;32m    330\u001b[0m     )\n\u001b[1;32m--> 331\u001b[0m \u001b[38;5;28;01mreturn\u001b[39;00m \u001b[43mfunc\u001b[49m\u001b[43m(\u001b[49m\u001b[38;5;241;43m*\u001b[39;49m\u001b[43margs\u001b[49m\u001b[43m,\u001b[49m\u001b[43m \u001b[49m\u001b[38;5;241;43m*\u001b[39;49m\u001b[38;5;241;43m*\u001b[39;49m\u001b[43mkwargs\u001b[49m\u001b[43m)\u001b[49m\n",
      "File \u001b[1;32m~\\anaconda3\\envs\\CV0\\lib\\site-packages\\pandas\\io\\parsers\\readers.py:950\u001b[0m, in \u001b[0;36mread_csv\u001b[1;34m(filepath_or_buffer, sep, delimiter, header, names, index_col, usecols, squeeze, prefix, mangle_dupe_cols, dtype, engine, converters, true_values, false_values, skipinitialspace, skiprows, skipfooter, nrows, na_values, keep_default_na, na_filter, verbose, skip_blank_lines, parse_dates, infer_datetime_format, keep_date_col, date_parser, dayfirst, cache_dates, iterator, chunksize, compression, thousands, decimal, lineterminator, quotechar, quoting, doublequote, escapechar, comment, encoding, encoding_errors, dialect, error_bad_lines, warn_bad_lines, on_bad_lines, delim_whitespace, low_memory, memory_map, float_precision, storage_options)\u001b[0m\n\u001b[0;32m    935\u001b[0m kwds_defaults \u001b[38;5;241m=\u001b[39m _refine_defaults_read(\n\u001b[0;32m    936\u001b[0m     dialect,\n\u001b[0;32m    937\u001b[0m     delimiter,\n\u001b[1;32m   (...)\u001b[0m\n\u001b[0;32m    946\u001b[0m     defaults\u001b[38;5;241m=\u001b[39m{\u001b[38;5;124m\"\u001b[39m\u001b[38;5;124mdelimiter\u001b[39m\u001b[38;5;124m\"\u001b[39m: \u001b[38;5;124m\"\u001b[39m\u001b[38;5;124m,\u001b[39m\u001b[38;5;124m\"\u001b[39m},\n\u001b[0;32m    947\u001b[0m )\n\u001b[0;32m    948\u001b[0m kwds\u001b[38;5;241m.\u001b[39mupdate(kwds_defaults)\n\u001b[1;32m--> 950\u001b[0m \u001b[38;5;28;01mreturn\u001b[39;00m \u001b[43m_read\u001b[49m\u001b[43m(\u001b[49m\u001b[43mfilepath_or_buffer\u001b[49m\u001b[43m,\u001b[49m\u001b[43m \u001b[49m\u001b[43mkwds\u001b[49m\u001b[43m)\u001b[49m\n",
      "File \u001b[1;32m~\\anaconda3\\envs\\CV0\\lib\\site-packages\\pandas\\io\\parsers\\readers.py:605\u001b[0m, in \u001b[0;36m_read\u001b[1;34m(filepath_or_buffer, kwds)\u001b[0m\n\u001b[0;32m    602\u001b[0m _validate_names(kwds\u001b[38;5;241m.\u001b[39mget(\u001b[38;5;124m\"\u001b[39m\u001b[38;5;124mnames\u001b[39m\u001b[38;5;124m\"\u001b[39m, \u001b[38;5;28;01mNone\u001b[39;00m))\n\u001b[0;32m    604\u001b[0m \u001b[38;5;66;03m# Create the parser.\u001b[39;00m\n\u001b[1;32m--> 605\u001b[0m parser \u001b[38;5;241m=\u001b[39m \u001b[43mTextFileReader\u001b[49m\u001b[43m(\u001b[49m\u001b[43mfilepath_or_buffer\u001b[49m\u001b[43m,\u001b[49m\u001b[43m \u001b[49m\u001b[38;5;241;43m*\u001b[39;49m\u001b[38;5;241;43m*\u001b[39;49m\u001b[43mkwds\u001b[49m\u001b[43m)\u001b[49m\n\u001b[0;32m    607\u001b[0m \u001b[38;5;28;01mif\u001b[39;00m chunksize \u001b[38;5;129;01mor\u001b[39;00m iterator:\n\u001b[0;32m    608\u001b[0m     \u001b[38;5;28;01mreturn\u001b[39;00m parser\n",
      "File \u001b[1;32m~\\anaconda3\\envs\\CV0\\lib\\site-packages\\pandas\\io\\parsers\\readers.py:1442\u001b[0m, in \u001b[0;36mTextFileReader.__init__\u001b[1;34m(self, f, engine, **kwds)\u001b[0m\n\u001b[0;32m   1439\u001b[0m     \u001b[38;5;28mself\u001b[39m\u001b[38;5;241m.\u001b[39moptions[\u001b[38;5;124m\"\u001b[39m\u001b[38;5;124mhas_index_names\u001b[39m\u001b[38;5;124m\"\u001b[39m] \u001b[38;5;241m=\u001b[39m kwds[\u001b[38;5;124m\"\u001b[39m\u001b[38;5;124mhas_index_names\u001b[39m\u001b[38;5;124m\"\u001b[39m]\n\u001b[0;32m   1441\u001b[0m \u001b[38;5;28mself\u001b[39m\u001b[38;5;241m.\u001b[39mhandles: IOHandles \u001b[38;5;241m|\u001b[39m \u001b[38;5;28;01mNone\u001b[39;00m \u001b[38;5;241m=\u001b[39m \u001b[38;5;28;01mNone\u001b[39;00m\n\u001b[1;32m-> 1442\u001b[0m \u001b[38;5;28mself\u001b[39m\u001b[38;5;241m.\u001b[39m_engine \u001b[38;5;241m=\u001b[39m \u001b[38;5;28;43mself\u001b[39;49m\u001b[38;5;241;43m.\u001b[39;49m\u001b[43m_make_engine\u001b[49m\u001b[43m(\u001b[49m\u001b[43mf\u001b[49m\u001b[43m,\u001b[49m\u001b[43m \u001b[49m\u001b[38;5;28;43mself\u001b[39;49m\u001b[38;5;241;43m.\u001b[39;49m\u001b[43mengine\u001b[49m\u001b[43m)\u001b[49m\n",
      "File \u001b[1;32m~\\anaconda3\\envs\\CV0\\lib\\site-packages\\pandas\\io\\parsers\\readers.py:1735\u001b[0m, in \u001b[0;36mTextFileReader._make_engine\u001b[1;34m(self, f, engine)\u001b[0m\n\u001b[0;32m   1733\u001b[0m     \u001b[38;5;28;01mif\u001b[39;00m \u001b[38;5;124m\"\u001b[39m\u001b[38;5;124mb\u001b[39m\u001b[38;5;124m\"\u001b[39m \u001b[38;5;129;01mnot\u001b[39;00m \u001b[38;5;129;01min\u001b[39;00m mode:\n\u001b[0;32m   1734\u001b[0m         mode \u001b[38;5;241m+\u001b[39m\u001b[38;5;241m=\u001b[39m \u001b[38;5;124m\"\u001b[39m\u001b[38;5;124mb\u001b[39m\u001b[38;5;124m\"\u001b[39m\n\u001b[1;32m-> 1735\u001b[0m \u001b[38;5;28mself\u001b[39m\u001b[38;5;241m.\u001b[39mhandles \u001b[38;5;241m=\u001b[39m \u001b[43mget_handle\u001b[49m\u001b[43m(\u001b[49m\n\u001b[0;32m   1736\u001b[0m \u001b[43m    \u001b[49m\u001b[43mf\u001b[49m\u001b[43m,\u001b[49m\n\u001b[0;32m   1737\u001b[0m \u001b[43m    \u001b[49m\u001b[43mmode\u001b[49m\u001b[43m,\u001b[49m\n\u001b[0;32m   1738\u001b[0m \u001b[43m    \u001b[49m\u001b[43mencoding\u001b[49m\u001b[38;5;241;43m=\u001b[39;49m\u001b[38;5;28;43mself\u001b[39;49m\u001b[38;5;241;43m.\u001b[39;49m\u001b[43moptions\u001b[49m\u001b[38;5;241;43m.\u001b[39;49m\u001b[43mget\u001b[49m\u001b[43m(\u001b[49m\u001b[38;5;124;43m\"\u001b[39;49m\u001b[38;5;124;43mencoding\u001b[39;49m\u001b[38;5;124;43m\"\u001b[39;49m\u001b[43m,\u001b[49m\u001b[43m \u001b[49m\u001b[38;5;28;43;01mNone\u001b[39;49;00m\u001b[43m)\u001b[49m\u001b[43m,\u001b[49m\n\u001b[0;32m   1739\u001b[0m \u001b[43m    \u001b[49m\u001b[43mcompression\u001b[49m\u001b[38;5;241;43m=\u001b[39;49m\u001b[38;5;28;43mself\u001b[39;49m\u001b[38;5;241;43m.\u001b[39;49m\u001b[43moptions\u001b[49m\u001b[38;5;241;43m.\u001b[39;49m\u001b[43mget\u001b[49m\u001b[43m(\u001b[49m\u001b[38;5;124;43m\"\u001b[39;49m\u001b[38;5;124;43mcompression\u001b[39;49m\u001b[38;5;124;43m\"\u001b[39;49m\u001b[43m,\u001b[49m\u001b[43m \u001b[49m\u001b[38;5;28;43;01mNone\u001b[39;49;00m\u001b[43m)\u001b[49m\u001b[43m,\u001b[49m\n\u001b[0;32m   1740\u001b[0m \u001b[43m    \u001b[49m\u001b[43mmemory_map\u001b[49m\u001b[38;5;241;43m=\u001b[39;49m\u001b[38;5;28;43mself\u001b[39;49m\u001b[38;5;241;43m.\u001b[39;49m\u001b[43moptions\u001b[49m\u001b[38;5;241;43m.\u001b[39;49m\u001b[43mget\u001b[49m\u001b[43m(\u001b[49m\u001b[38;5;124;43m\"\u001b[39;49m\u001b[38;5;124;43mmemory_map\u001b[39;49m\u001b[38;5;124;43m\"\u001b[39;49m\u001b[43m,\u001b[49m\u001b[43m \u001b[49m\u001b[38;5;28;43;01mFalse\u001b[39;49;00m\u001b[43m)\u001b[49m\u001b[43m,\u001b[49m\n\u001b[0;32m   1741\u001b[0m \u001b[43m    \u001b[49m\u001b[43mis_text\u001b[49m\u001b[38;5;241;43m=\u001b[39;49m\u001b[43mis_text\u001b[49m\u001b[43m,\u001b[49m\n\u001b[0;32m   1742\u001b[0m \u001b[43m    \u001b[49m\u001b[43merrors\u001b[49m\u001b[38;5;241;43m=\u001b[39;49m\u001b[38;5;28;43mself\u001b[39;49m\u001b[38;5;241;43m.\u001b[39;49m\u001b[43moptions\u001b[49m\u001b[38;5;241;43m.\u001b[39;49m\u001b[43mget\u001b[49m\u001b[43m(\u001b[49m\u001b[38;5;124;43m\"\u001b[39;49m\u001b[38;5;124;43mencoding_errors\u001b[39;49m\u001b[38;5;124;43m\"\u001b[39;49m\u001b[43m,\u001b[49m\u001b[43m \u001b[49m\u001b[38;5;124;43m\"\u001b[39;49m\u001b[38;5;124;43mstrict\u001b[39;49m\u001b[38;5;124;43m\"\u001b[39;49m\u001b[43m)\u001b[49m\u001b[43m,\u001b[49m\n\u001b[0;32m   1743\u001b[0m \u001b[43m    \u001b[49m\u001b[43mstorage_options\u001b[49m\u001b[38;5;241;43m=\u001b[39;49m\u001b[38;5;28;43mself\u001b[39;49m\u001b[38;5;241;43m.\u001b[39;49m\u001b[43moptions\u001b[49m\u001b[38;5;241;43m.\u001b[39;49m\u001b[43mget\u001b[49m\u001b[43m(\u001b[49m\u001b[38;5;124;43m\"\u001b[39;49m\u001b[38;5;124;43mstorage_options\u001b[39;49m\u001b[38;5;124;43m\"\u001b[39;49m\u001b[43m,\u001b[49m\u001b[43m \u001b[49m\u001b[38;5;28;43;01mNone\u001b[39;49;00m\u001b[43m)\u001b[49m\u001b[43m,\u001b[49m\n\u001b[0;32m   1744\u001b[0m \u001b[43m\u001b[49m\u001b[43m)\u001b[49m\n\u001b[0;32m   1745\u001b[0m \u001b[38;5;28;01massert\u001b[39;00m \u001b[38;5;28mself\u001b[39m\u001b[38;5;241m.\u001b[39mhandles \u001b[38;5;129;01mis\u001b[39;00m \u001b[38;5;129;01mnot\u001b[39;00m \u001b[38;5;28;01mNone\u001b[39;00m\n\u001b[0;32m   1746\u001b[0m f \u001b[38;5;241m=\u001b[39m \u001b[38;5;28mself\u001b[39m\u001b[38;5;241m.\u001b[39mhandles\u001b[38;5;241m.\u001b[39mhandle\n",
      "File \u001b[1;32m~\\anaconda3\\envs\\CV0\\lib\\site-packages\\pandas\\io\\common.py:856\u001b[0m, in \u001b[0;36mget_handle\u001b[1;34m(path_or_buf, mode, encoding, compression, memory_map, is_text, errors, storage_options)\u001b[0m\n\u001b[0;32m    851\u001b[0m \u001b[38;5;28;01melif\u001b[39;00m \u001b[38;5;28misinstance\u001b[39m(handle, \u001b[38;5;28mstr\u001b[39m):\n\u001b[0;32m    852\u001b[0m     \u001b[38;5;66;03m# Check whether the filename is to be opened in binary mode.\u001b[39;00m\n\u001b[0;32m    853\u001b[0m     \u001b[38;5;66;03m# Binary mode does not support 'encoding' and 'newline'.\u001b[39;00m\n\u001b[0;32m    854\u001b[0m     \u001b[38;5;28;01mif\u001b[39;00m ioargs\u001b[38;5;241m.\u001b[39mencoding \u001b[38;5;129;01mand\u001b[39;00m \u001b[38;5;124m\"\u001b[39m\u001b[38;5;124mb\u001b[39m\u001b[38;5;124m\"\u001b[39m \u001b[38;5;129;01mnot\u001b[39;00m \u001b[38;5;129;01min\u001b[39;00m ioargs\u001b[38;5;241m.\u001b[39mmode:\n\u001b[0;32m    855\u001b[0m         \u001b[38;5;66;03m# Encoding\u001b[39;00m\n\u001b[1;32m--> 856\u001b[0m         handle \u001b[38;5;241m=\u001b[39m \u001b[38;5;28;43mopen\u001b[39;49m\u001b[43m(\u001b[49m\n\u001b[0;32m    857\u001b[0m \u001b[43m            \u001b[49m\u001b[43mhandle\u001b[49m\u001b[43m,\u001b[49m\n\u001b[0;32m    858\u001b[0m \u001b[43m            \u001b[49m\u001b[43mioargs\u001b[49m\u001b[38;5;241;43m.\u001b[39;49m\u001b[43mmode\u001b[49m\u001b[43m,\u001b[49m\n\u001b[0;32m    859\u001b[0m \u001b[43m            \u001b[49m\u001b[43mencoding\u001b[49m\u001b[38;5;241;43m=\u001b[39;49m\u001b[43mioargs\u001b[49m\u001b[38;5;241;43m.\u001b[39;49m\u001b[43mencoding\u001b[49m\u001b[43m,\u001b[49m\n\u001b[0;32m    860\u001b[0m \u001b[43m            \u001b[49m\u001b[43merrors\u001b[49m\u001b[38;5;241;43m=\u001b[39;49m\u001b[43merrors\u001b[49m\u001b[43m,\u001b[49m\n\u001b[0;32m    861\u001b[0m \u001b[43m            \u001b[49m\u001b[43mnewline\u001b[49m\u001b[38;5;241;43m=\u001b[39;49m\u001b[38;5;124;43m\"\u001b[39;49m\u001b[38;5;124;43m\"\u001b[39;49m\u001b[43m,\u001b[49m\n\u001b[0;32m    862\u001b[0m \u001b[43m        \u001b[49m\u001b[43m)\u001b[49m\n\u001b[0;32m    863\u001b[0m     \u001b[38;5;28;01melse\u001b[39;00m:\n\u001b[0;32m    864\u001b[0m         \u001b[38;5;66;03m# Binary mode\u001b[39;00m\n\u001b[0;32m    865\u001b[0m         handle \u001b[38;5;241m=\u001b[39m \u001b[38;5;28mopen\u001b[39m(handle, ioargs\u001b[38;5;241m.\u001b[39mmode)\n",
      "\u001b[1;31mPermissionError\u001b[0m: [Errno 13] Permission denied: 'C:\\\\Users\\\\drang\\\\Downloads\\\\misc\\\\diabetes.csv'"
     ]
    }
   ],
   "source": [
    "#method 2 creating DB from csv local file and updating to server\n",
    "import pandas as pd\n",
    "\n",
    "data = pd.read_csv(r\"C:\\Users\\drang\\Downloads\\misc\\diabetes.csv\")\n"
   ]
  },
  {
   "cell_type": "code",
   "execution_count": null,
   "id": "3e88f38b",
   "metadata": {},
   "outputs": [],
   "source": [
    "import mysql.connector\n",
    "\n",
    "db_connection = mysql.connector.connect(user=\"root\", password=\"A\")\n",
    "db_cursor = db_connection.cursor(buffered=True)\n",
    "#db_cursor.execute(\"CREATE DATABASE DDB;\")\n",
    "db_cursor.execute(\"USE DDB;\")\n",
    "\n"
   ]
  },
  {
   "cell_type": "code",
   "execution_count": null,
   "id": "ea744bee",
   "metadata": {},
   "outputs": [],
   "source": [
    "db_cursor.execute(\"CREATE TABLE diabetes1(Pregnancies INT, Glucose INT, \\\n",
    "                   BloodPressure INT, SkinThickness INT, BMI FLOAT, \\\n",
    "                   Insulin INT, DiabetesPedigreeFunction FLOAT, Age FLOAT, Outcome INT);\")\n"
   ]
  },
  {
   "cell_type": "code",
   "execution_count": null,
   "id": "9f490056",
   "metadata": {},
   "outputs": [],
   "source": [
    "#create structure for sql\n",
    "wtuples = list(data.itertuples(index=False, name=None))\n",
    "tuples_string = \",\".join([\"(\" + \",\".join([str(w) for w in wt]) + \")\" for wt in wtuples])"
   ]
  },
  {
   "cell_type": "code",
   "execution_count": null,
   "id": "a15650b4",
   "metadata": {},
   "outputs": [],
   "source": [
    "db_cursor.execute(\"INSERT INTO diabete(Pregnancies, Glucose, BloodPressure,\\\n",
    "                   SkinThickness, Insulin, BMI, DiabetesPedigreeFunction, Age, Outcome) VALUES \" + tuples_string + \";\")\n",
    "db_cursor.execute(\"FLUSH TABLES;\")"
   ]
  },
  {
   "cell_type": "code",
   "execution_count": null,
   "id": "bb66b72f",
   "metadata": {},
   "outputs": [],
   "source": [
    "db_cursor.execute(\"SELECT * FROM diabete;\")"
   ]
  },
  {
   "cell_type": "code",
   "execution_count": null,
   "id": "f8718b40",
   "metadata": {},
   "outputs": [],
   "source": [
    "spark.stop()"
   ]
  },
  {
   "cell_type": "markdown",
   "id": "17c34359",
   "metadata": {},
   "source": [
    "# method 2-2pt read data from mysql server into spark session"
   ]
  },
  {
   "cell_type": "code",
   "execution_count": null,
   "id": "7ff6913a",
   "metadata": {},
   "outputs": [],
   "source": [
    "from pyspark.sql import SparkSession\n",
    "spark = SparkSession.builder.config(\"spark.jars\", r\"C:\\spark-3.3.1-bin-hadoop2\\jars\\mysql-connector-j-8.0.31.jar\") \\\n",
    ".config(\"spark.sql.sources.bucketing.enabled\", True) \\\n",
    ".config(\"spark.sql.shuffle.partitions\", \"500\") \\\n",
    ".config(\"spark.default.parallelism\", \"1\") \\\n",
    ".config(\"spark.driver.extraClassPath\", r\"C:\\spark-3.3.1-bin-hadoop2\\jars\\mysql-connector-j-8.0.31.jar\") \\\n",
    ".config(\"spark.executor.extraClassPath\", r\"C:\\spark-3.3.1-bin-hadoop2\\jars\\mysql-connector-j-8.0.31.jar\") \\\n",
    ".config(\"spark.executor.extraLibrary\", r\"C:\\spark-3.3.1-bin-hadoop2\\jars\\mysql-connector-j-8.0.31.jar\") \\\n",
    "    .master(\"local\").appName(\"PySpark_MySQL_test\").enableHiveSupport().getOrCreate()\n",
    "#last 2 configs for cluster mode instead of local mode  \n",
    "    \n",
    "    \n",
    "df = spark.read.format(\"jdbc\").option(\"url\", \"jdbc:mysql://localhost:3306/DDB\") \\\n",
    "    .option(\"driver\", \"com.mysql.jdbc.Driver\").option(\"dbtable\", \"diabete\") \\\n",
    "    .option(\"user\", \"root\").option(\"password\", \"Art8870496550!@#\").load() "
   ]
  },
  {
   "cell_type": "code",
   "execution_count": null,
   "id": "b303d55e",
   "metadata": {},
   "outputs": [],
   "source": [
    "df.show()"
   ]
  },
  {
   "cell_type": "code",
   "execution_count": null,
   "id": "b1f1e368",
   "metadata": {},
   "outputs": [],
   "source": [
    "print(df.rdd.getNumPartitions())\n",
    "df.explain()"
   ]
  },
  {
   "cell_type": "code",
   "execution_count": null,
   "id": "02cfe152",
   "metadata": {},
   "outputs": [],
   "source": [
    "df.write.bucketBy(10,\"BMI\")#.saveAsTable(\"bucketed_large_table_5\")\n",
    "#df.rdd.collect()\n",
    "#bucketing usd for partition not working here\n",
    "df.show()\n",
    "spark.sql(\"SELECT * FROM bucketed_large_table_5\").show()\n"
   ]
  },
  {
   "cell_type": "code",
   "execution_count": null,
   "id": "8f3164d6",
   "metadata": {},
   "outputs": [],
   "source": [
    "az=df.repartition(100)\n",
    "df.write.option(\"header\",True) \\\n",
    "        .partitionBy(\"Pregnancies\") \\\n",
    "        .mode(\"overwrite\") \\\n",
    "        .csv(r\"C:\\Users\\drang\\Downloads\\misc\\diabetes.csv\")"
   ]
  },
  {
   "cell_type": "code",
   "execution_count": null,
   "id": "5fca5676",
   "metadata": {},
   "outputs": [],
   "source": [
    "columnname = df.columns\n",
    "#print(az.rdd.getNumPartitions())\n",
    "df.explain()"
   ]
  },
  {
   "cell_type": "code",
   "execution_count": null,
   "id": "acc57d87",
   "metadata": {},
   "outputs": [],
   "source": [
    "df.printSchema()"
   ]
  },
  {
   "cell_type": "code",
   "execution_count": null,
   "id": "2c97eff1",
   "metadata": {},
   "outputs": [],
   "source": [
    "rawf = df.select(*(col(c).cast('float').alias(c) for c in df.columns))"
   ]
  },
  {
   "cell_type": "code",
   "execution_count": null,
   "id": "49839633",
   "metadata": {},
   "outputs": [],
   "source": [
    "rawf.printSchema()"
   ]
  },
  {
   "cell_type": "code",
   "execution_count": null,
   "id": "9aaf816c",
   "metadata": {},
   "outputs": [],
   "source": [
    "rawf.select([count(when(col(c).isNull(),c)).alias(c) for c in rawf.columns]).show()"
   ]
  },
  {
   "cell_type": "code",
   "execution_count": null,
   "id": "9704d3e7",
   "metadata": {},
   "outputs": [],
   "source": [
    "#if theres null use imputer\n",
    "from pyspark.ml.feature import Imputer\n",
    "imputer = Imputer(inputCol='Age', outputCol='newage')\n",
    "model = imputer.fit(rawf)\n",
    "data = model.transform(rawf)"
   ]
  },
  {
   "cell_type": "code",
   "execution_count": null,
   "id": "b08d16f4",
   "metadata": {},
   "outputs": [],
   "source": [
    "data.rdd.getNumPartitions()\n",
    "d = data.repartition(5)\n",
    "d.rdd.getNumPartitions()\n"
   ]
  },
  {
   "cell_type": "code",
   "execution_count": null,
   "id": "4af673a7",
   "metadata": {},
   "outputs": [],
   "source": [
    "\n",
    "colsi = rawf.drop(data.Outcome)\n",
    "\n",
    "colsi = colsi.columns\n",
    "colsi"
   ]
  },
  {
   "cell_type": "code",
   "execution_count": null,
   "id": "0771d6ff",
   "metadata": {},
   "outputs": [],
   "source": [
    "from pyspark.ml.feature import VectorAssembler\n",
    "n= VectorAssembler(inputCols=colsi, outputCol=\"feature\")\n",
    "newd = n.transform(rawf)\n",
    "newd.show(truncate=False)"
   ]
  },
  {
   "cell_type": "code",
   "execution_count": null,
   "id": "9a35db5e",
   "metadata": {},
   "outputs": [],
   "source": [
    "from pyspark.ml.feature import StandardScaler\n",
    "scaler = StandardScaler(inputCol='feature', outputCol=\"scaledfeat\")\n",
    "model = scaler.fit(newd)\n",
    "scaledd = model.transform(newd)\n"
   ]
  },
  {
   "cell_type": "code",
   "execution_count": null,
   "id": "a9e3958a",
   "metadata": {},
   "outputs": [],
   "source": [
    "newdata = scaledd.select('scaledfeat','Outcome')"
   ]
  },
  {
   "cell_type": "code",
   "execution_count": null,
   "id": "48463886",
   "metadata": {},
   "outputs": [],
   "source": [
    "newdata.show(truncate=False)"
   ]
  },
  {
   "cell_type": "markdown",
   "id": "0451d30c",
   "metadata": {},
   "source": [
    "\n"
   ]
  },
  {
   "cell_type": "code",
   "execution_count": null,
   "id": "c05e17c3",
   "metadata": {},
   "outputs": [],
   "source": [
    "from pyspark.ml.feature import ChiSqSelector\n",
    "chi = ChiSqSelector(numTopFeatures=6, outputCol=\"selectedcols\", featuresCol=\"scaledfeat\", labelCol=\"Outcome\")\n",
    "Sdata = chi.fit(newdata).transform(newdata)"
   ]
  },
  {
   "cell_type": "code",
   "execution_count": null,
   "id": "a27e4998",
   "metadata": {},
   "outputs": [],
   "source": [
    "Sdata.show(truncate=False)"
   ]
  },
  {
   "cell_type": "code",
   "execution_count": null,
   "id": "750eab5e",
   "metadata": {},
   "outputs": [],
   "source": [
    "columnname #3rd and 7th- BP & DIABETESPEDIGREE REMOVED BY CHISQ FEAT SELECTOR"
   ]
  },
  {
   "cell_type": "code",
   "execution_count": null,
   "id": "af00afdf",
   "metadata": {},
   "outputs": [],
   "source": [
    "Ssdata= Sdata.drop(\"scaledfeat\")\n",
    "Ssdata.show(truncate=False)"
   ]
  },
  {
   "cell_type": "code",
   "execution_count": null,
   "id": "c6ea4c11",
   "metadata": {},
   "outputs": [],
   "source": [
    "#traib test split\n",
    "train, test = newdata.randomSplit([0.7,0.3])\n",
    "test.count()\n",
    "newdata.show()"
   ]
  },
  {
   "cell_type": "code",
   "execution_count": null,
   "id": "fcb744ec",
   "metadata": {},
   "outputs": [],
   "source": [
    "from pyspark.ml.classification import LogisticRegression, GBTClassifier, RandomForestClassifier"
   ]
  },
  {
   "cell_type": "code",
   "execution_count": null,
   "id": "7d56c66d",
   "metadata": {},
   "outputs": [],
   "source": [
    "logreg = LogisticRegression(labelCol=\"Outcome\", featuresCol=\"scaledfeat\", maxIter=500, regParam=0.2, elasticNetParam=0.8)\n",
    "model = logreg.fit(train)\n",
    "preds = model.transform(test)\n",
    "evals = model.evaluate(test)"
   ]
  },
  {
   "cell_type": "code",
   "execution_count": null,
   "id": "be7a0a60",
   "metadata": {},
   "outputs": [],
   "source": [
    "preds.show()\n",
    "\"\"\"16 - p1 30\n",
    "12 -p2 20\n",
    "11 - p4 15\"\"\"\n",
    "print(evals.accuracy, evals.areaUnderROC)\n"
   ]
  },
  {
   "cell_type": "code",
   "execution_count": null,
   "id": "24787946",
   "metadata": {},
   "outputs": [],
   "source": [
    "import time\n",
    "start= time.time()\n",
    "from pyspark.ml.tuning import ParamGridBuilder\n",
    "from pyspark.ml.tuning import TrainValidationSplit\n",
    "from pyspark.ml.evaluation import MulticlassClassificationEvaluator, BinaryClassificationEvaluator\n",
    "\n",
    "rf = RandomForestClassifier(labelCol=\"Outcome\", featuresCol=\"scaledfeat\", numTrees=20)\n",
    "\n",
    "\n",
    "paramGrid = ParamGridBuilder() \\\n",
    "  .addGrid(rf.maxDepth, [5, 10, 15, 20]) \\\n",
    "  .addGrid(rf.maxBins, [25, 30]) \\\n",
    "  .build()\n",
    "paramGrid\n",
    "\"\"\"trainn = train.repartition(4)\n",
    "testt = test.repartition(4)\"\"\"\n",
    "print(train.rdd.getNumPartitions())\n",
    "evaluator=BinaryClassificationEvaluator(rawPredictionCol=\"rawPrediction\", labelCol=\"Outcome\", metricName=\"areaUnderROC\")\n",
    "tvs = TrainValidationSplit(\n",
    "  estimator=rf,\n",
    "  estimatorParamMaps=paramGrid,\n",
    "  evaluator=evaluator,\n",
    "  trainRatio=0.8,parallelism=4, seed=53)\n",
    "\n",
    "tvs_m=tvs.fit(train)\n",
    "preds = tvs_m.transform(test)\n",
    "print(\"roc\",evaluator.evaluate(tvs_m.transform(test)))\n",
    "#print(evals.accuracy, evals.areaUnderROC)\n",
    "print(\"time:\", time.time() - start, \"secs\")"
   ]
  },
  {
   "cell_type": "code",
   "execution_count": null,
   "id": "f7448715",
   "metadata": {},
   "outputs": [],
   "source": [
    "\"\"\"from pyspark.mllib.evaluation import BinaryClassificationMetrics\n",
    "#convert to rdd cox of mllib pkg\n",
    "predsa = preds.select('Outcome','prediction').rdd.map(lambda row: (float(row['probability'][1]), float(row['Outcome'])))\n",
    "metrics = BinaryClassificationMetrics(predsa)\"\"\""
   ]
  },
  {
   "cell_type": "code",
   "execution_count": null,
   "id": "691e731a",
   "metadata": {},
   "outputs": [],
   "source": [
    "\"\"\"print(\"AUC\", metrics.areaUnderPR)\"\"\""
   ]
  },
  {
   "cell_type": "code",
   "execution_count": null,
   "id": "8085c419",
   "metadata": {},
   "outputs": [],
   "source": [
    "predy = preds.select('Outcome','rawPrediction', 'prediction')"
   ]
  },
  {
   "cell_type": "code",
   "execution_count": null,
   "id": "06f7a1fa",
   "metadata": {},
   "outputs": [],
   "source": [
    "from pyspark.ml.evaluation import BinaryClassificationEvaluator, MulticlassClassificationEvaluator\n",
    "metric = BinaryClassificationEvaluator(rawPredictionCol=\"rawPrediction\", labelCol=\"Outcome\", metricName=\"areaUnderROC\")\n",
    "lrroc=metric.evaluate(predy)\n",
    "lrroc"
   ]
  },
  {
   "cell_type": "code",
   "execution_count": null,
   "id": "12a1a046",
   "metadata": {},
   "outputs": [],
   "source": [
    "metrics = MulticlassClassificationEvaluator(predictionCol=\"prediction\", labelCol=\"Outcome\", metricName=\"accuracy\")\n",
    "lracc = metrics.evaluate(predy)\n",
    "lracc"
   ]
  },
  {
   "cell_type": "code",
   "execution_count": null,
   "id": "be78990c",
   "metadata": {},
   "outputs": [],
   "source": [
    "\n",
    "rf = RandomForestClassifier(labelCol=\"Outcome\", featuresCol=\"scaledfeat\", numTrees=20)\n",
    "rfmod = rf.fit(train)\n",
    "pred = rfmod.transform(test)"
   ]
  },
  {
   "cell_type": "code",
   "execution_count": null,
   "id": "56fa0f82",
   "metadata": {},
   "outputs": [],
   "source": [
    "predy = preds.select('Outcome','rawPrediction', 'prediction')"
   ]
  },
  {
   "cell_type": "code",
   "execution_count": null,
   "id": "34fece18",
   "metadata": {},
   "outputs": [],
   "source": [
    "rfroc = metric.evaluate(predy)"
   ]
  },
  {
   "cell_type": "code",
   "execution_count": null,
   "id": "3a611f69",
   "metadata": {},
   "outputs": [],
   "source": [
    "rfacc = metrics.evaluate(predy)"
   ]
  },
  {
   "cell_type": "code",
   "execution_count": null,
   "id": "e87e1d0a",
   "metadata": {},
   "outputs": [],
   "source": [
    "ml = GBTClassifier(labelCol=\"Outcome\", featuresCol=(\"scaledfeat\"), maxDepth=10, maxIter=10)\n",
    "model = ml.fit(train)\n"
   ]
  },
  {
   "cell_type": "code",
   "execution_count": null,
   "id": "34e95603",
   "metadata": {},
   "outputs": [],
   "source": [
    "preds = model.transform(test)\n",
    "\n",
    "#convert SparseVector -> DenseVector  which error occured during chisq selector"
   ]
  },
  {
   "cell_type": "code",
   "execution_count": null,
   "id": "87db9f0d",
   "metadata": {},
   "outputs": [],
   "source": [
    "predy = preds.select('Outcome','rawPrediction', 'prediction')\n",
    "\n",
    "gbtroc=metric.evaluate(predy)"
   ]
  },
  {
   "cell_type": "code",
   "execution_count": null,
   "id": "6f05d888",
   "metadata": {},
   "outputs": [],
   "source": [
    "gbtacc = metrics.evaluate(predy)"
   ]
  },
  {
   "cell_type": "code",
   "execution_count": null,
   "id": "71cbe614",
   "metadata": {},
   "outputs": [],
   "source": [
    "roc = [lrroc, rfroc, gbtroc]\n",
    "acc = [lracc, rfacc, gbtacc]\n",
    "print(f\"lrroc:{lrroc},  rfroc:{rfroc}, gbtroc:{gbtroc}\")\n",
    "print(f\"lracc:{lracc},  rfacc:{rfacc}, gbtacc:{gbtacc}\")"
   ]
  },
  {
   "cell_type": "code",
   "execution_count": null,
   "id": "4e840610",
   "metadata": {},
   "outputs": [],
   "source": [
    "from pyspark.mllib.stat import Statistics\n",
    "n = newdata.drop(\"Outcome\")\n",
    "n = newdata.select(newdata.scaledfeat).rdd.map(lambda row : row[0:])\n",
    "summary = Statistics.colStats(n)\n",
    "\n",
    "summary.mean() #variance, norm"
   ]
  },
  {
   "cell_type": "code",
   "execution_count": null,
   "id": "13952a6e",
   "metadata": {},
   "outputs": [],
   "source": [
    "correlat = Statistics.corr(n, method='pearson')\n",
    "import pandas as pd\n",
    "pddf= pd.DataFrame(correlat, columns=columnname[:-1], index=columnname[:-1])\n",
    "pddf\n"
   ]
  },
  {
   "cell_type": "code",
   "execution_count": null,
   "id": "0abde9c6",
   "metadata": {},
   "outputs": [],
   "source": [
    "from pyspark.ml.stat import Correlation\n",
    "n = newd.drop('Outcome')\n",
    "n = n.drop('features')\n",
    "summary = Correlation()\n",
    "print(n)\n",
    "columnname=columnname[:-1]\n",
    "a=summary.corr(dataset=n.feature, column=columnname) #variance, norm\n",
    "a"
   ]
  },
  {
   "cell_type": "code",
   "execution_count": null,
   "id": "df0d28e2",
   "metadata": {},
   "outputs": [],
   "source": [
    "n.show()"
   ]
  },
  {
   "cell_type": "code",
   "execution_count": null,
   "id": "98014037",
   "metadata": {},
   "outputs": [],
   "source": []
  }
 ],
 "metadata": {
  "kernelspec": {
   "display_name": "Python 3 (ipykernel)",
   "language": "python",
   "name": "python3"
  },
  "language_info": {
   "codemirror_mode": {
    "name": "ipython",
    "version": 3
   },
   "file_extension": ".py",
   "mimetype": "text/x-python",
   "name": "python",
   "nbconvert_exporter": "python",
   "pygments_lexer": "ipython3",
   "version": "3.8.13"
  }
 },
 "nbformat": 4,
 "nbformat_minor": 5
}
