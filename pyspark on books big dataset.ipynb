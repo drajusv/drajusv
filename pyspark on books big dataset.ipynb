{
 "cells": [
  {
   "cell_type": "code",
   "execution_count": 1,
   "id": "e0b0df0d",
   "metadata": {},
   "outputs": [],
   "source": [
    "import findspark\n"
   ]
  },
  {
   "cell_type": "code",
   "execution_count": 2,
   "id": "ff79548d",
   "metadata": {},
   "outputs": [],
   "source": [
    "findspark.init()"
   ]
  },
  {
   "cell_type": "code",
   "execution_count": 4,
   "id": "70045fe5",
   "metadata": {},
   "outputs": [],
   "source": [
    "from pyspark import SparkConf, SparkContext\n",
    "conf = SparkConf().setAppName(\"samsung\").setMaster(\"local\")\n",
    "sc = SparkContext(conf = conf)"
   ]
  },
  {
   "cell_type": "code",
   "execution_count": 16,
   "id": "0ab8dd55",
   "metadata": {},
   "outputs": [],
   "source": [
    "rdf = sc.textFile(r\"C:\\Users\\drang\\Downloads\\books_data\\books.csv\")"
   ]
  },
  {
   "cell_type": "code",
   "execution_count": 21,
   "id": "04e3b725",
   "metadata": {},
   "outputs": [
    {
     "data": {
      "text/plain": [
       "['\"ISBN\";\"Book-Title\";\"Book-Author\";\"Year-Of-Publication\";\"Publisher\";\"Image-URL-S\";\"Image-URL-M\";\"Image-URL-L\"',\n",
       " '\"B0002K6K8O\";\"The Underground City\";\"Jules Verne\";\"0\";\"Digireads.com\";\"http://images.amazon.com/images/P/B0002K6K8O.01.THUMBZZZ.jpg\";\"http://images.amazon.com/images/P/B0002K6K8O.01.MZZZZZZZ.jpg\";\"http://images.amazon.com/images/P/B0002K6K8O.01.LZZZZZZZ.jpg\"']"
      ]
     },
     "execution_count": 21,
     "metadata": {},
     "output_type": "execute_result"
    }
   ],
   "source": [
    "rdf.top(2)"
   ]
  },
  {
   "cell_type": "code",
   "execution_count": 19,
   "id": "f17765ad",
   "metadata": {},
   "outputs": [
    {
     "data": {
      "text/plain": [
       "271380"
      ]
     },
     "execution_count": 19,
     "metadata": {},
     "output_type": "execute_result"
    }
   ],
   "source": [
    "rdf.count()"
   ]
  },
  {
   "cell_type": "code",
   "execution_count": 24,
   "id": "5b3894cc",
   "metadata": {},
   "outputs": [
    {
     "data": {
      "text/plain": [
       "['\"ISBN\";\"Book-Title\";\"Book-Author\";\"Year-Of-Publication\";\"Publisher\";\"Image-URL-S\";\"Image-URL-M\";\"Image-URL-L\"']"
      ]
     },
     "execution_count": 24,
     "metadata": {},
     "output_type": "execute_result"
    }
   ],
   "source": [
    "#taking out only columns\n",
    "new_1 = rdf.first()\n",
    "columns1 = new_1.split(',')\n",
    "columns1"
   ]
  },
  {
   "cell_type": "code",
   "execution_count": 25,
   "id": "47f2601c",
   "metadata": {},
   "outputs": [],
   "source": [
    "sc.stop()"
   ]
  },
  {
   "cell_type": "code",
   "execution_count": 28,
   "id": "a3e29625",
   "metadata": {},
   "outputs": [],
   "source": [
    "#SQL DATAFRAME\n",
    "from pyspark.sql import SparkSession\n",
    "spark = SparkSession.builder.appName(\"samsung\").master('local').getOrCreate()\n"
   ]
  },
  {
   "cell_type": "code",
   "execution_count": 29,
   "id": "d9472541",
   "metadata": {},
   "outputs": [
    {
     "data": {
      "text/plain": [
       "pyspark.sql.session.SparkSession"
      ]
     },
     "execution_count": 29,
     "metadata": {},
     "output_type": "execute_result"
    }
   ],
   "source": [
    "type(spark)"
   ]
  },
  {
   "cell_type": "code",
   "execution_count": 31,
   "id": "d27fc527",
   "metadata": {},
   "outputs": [
    {
     "name": "stdout",
     "output_type": "stream",
     "text": [
      "+----------+--------------------+--------------------+-------------------+--------------------+--------------------+--------------------+--------------------+\n",
      "|      ISBN|          Book-Title|         Book-Author|Year-Of-Publication|           Publisher|         Image-URL-S|         Image-URL-M|         Image-URL-L|\n",
      "+----------+--------------------+--------------------+-------------------+--------------------+--------------------+--------------------+--------------------+\n",
      "|0195153448| Classical Mythology|  Mark P. O. Morford|               2002|Oxford University...|http://images.ama...|http://images.ama...|http://images.ama...|\n",
      "|0002005018|        Clara Callan|Richard Bruce Wright|               2001|HarperFlamingo Ca...|http://images.ama...|http://images.ama...|http://images.ama...|\n",
      "|0060973129|Decision in Normandy|        Carlo D'Este|               1991|     HarperPerennial|http://images.ama...|http://images.ama...|http://images.ama...|\n",
      "|0374157065|Flu: The Story of...|    Gina Bari Kolata|               1999|Farrar Straus Giroux|http://images.ama...|http://images.ama...|http://images.ama...|\n",
      "|0393045218|The Mummies of Ur...|     E. J. W. Barber|               1999|W. W. Norton &amp...|http://images.ama...|http://images.ama...|http://images.ama...|\n",
      "+----------+--------------------+--------------------+-------------------+--------------------+--------------------+--------------------+--------------------+\n",
      "only showing top 5 rows\n",
      "\n"
     ]
    }
   ],
   "source": [
    "bookdf = spark.read.csv(r\"C:\\Users\\drang\\Downloads\\books_data\\books.csv\", header=True, inferSchema=True, sep =\";\")\n",
    "bookdf.show(5)"
   ]
  },
  {
   "cell_type": "code",
   "execution_count": 32,
   "id": "3a5d7608",
   "metadata": {},
   "outputs": [
    {
     "name": "stdout",
     "output_type": "stream",
     "text": [
      "root\n",
      " |-- ISBN: string (nullable = true)\n",
      " |-- Book-Title: string (nullable = true)\n",
      " |-- Book-Author: string (nullable = true)\n",
      " |-- Year-Of-Publication: integer (nullable = true)\n",
      " |-- Publisher: string (nullable = true)\n",
      " |-- Image-URL-S: string (nullable = true)\n",
      " |-- Image-URL-M: string (nullable = true)\n",
      " |-- Image-URL-L: string (nullable = true)\n",
      "\n"
     ]
    }
   ],
   "source": [
    "bookdf.printSchema()"
   ]
  },
  {
   "cell_type": "code",
   "execution_count": 33,
   "id": "66f70e4b",
   "metadata": {},
   "outputs": [
    {
     "name": "stdout",
     "output_type": "stream",
     "text": [
      "+-------+--------------------+----+\n",
      "|User-ID|            Location| Age|\n",
      "+-------+--------------------+----+\n",
      "|      1|  nyc, new york, usa|NULL|\n",
      "|      2|stockton, califor...|  18|\n",
      "|      3|moscow, yukon ter...|NULL|\n",
      "|      4|porto, v.n.gaia, ...|  17|\n",
      "|      5|farnborough, hant...|NULL|\n",
      "+-------+--------------------+----+\n",
      "only showing top 5 rows\n",
      "\n"
     ]
    }
   ],
   "source": [
    "userdf = spark.read.csv(r\"C:\\Users\\drang\\Downloads\\books_data\\users.csv\", header=True, inferSchema=True, sep =\";\")\n",
    "userdf.show(5)"
   ]
  },
  {
   "cell_type": "code",
   "execution_count": 34,
   "id": "82aed86f",
   "metadata": {},
   "outputs": [
    {
     "name": "stdout",
     "output_type": "stream",
     "text": [
      "root\n",
      " |-- User-ID: string (nullable = true)\n",
      " |-- Location: string (nullable = true)\n",
      " |-- Age: string (nullable = true)\n",
      "\n"
     ]
    }
   ],
   "source": [
    "userdf.printSchema()"
   ]
  },
  {
   "cell_type": "code",
   "execution_count": 40,
   "id": "5c3471fc",
   "metadata": {},
   "outputs": [
    {
     "name": "stdout",
     "output_type": "stream",
     "text": [
      "+----------+--------------------+\n",
      "|      ISBN|          Book-Title|\n",
      "+----------+--------------------+\n",
      "|0195153448| Classical Mythology|\n",
      "|0002005018|        Clara Callan|\n",
      "|0060973129|Decision in Normandy|\n",
      "|0374157065|Flu: The Story of...|\n",
      "|0393045218|The Mummies of Ur...|\n",
      "+----------+--------------------+\n",
      "only showing top 5 rows\n",
      "\n"
     ]
    }
   ],
   "source": [
    "bookdf.select('ISBN','Book-Title').show(5)"
   ]
  },
  {
   "cell_type": "code",
   "execution_count": 41,
   "id": "67f25ac2",
   "metadata": {},
   "outputs": [
    {
     "data": {
      "text/plain": [
       "242154"
      ]
     },
     "execution_count": 41,
     "metadata": {},
     "output_type": "execute_result"
    }
   ],
   "source": [
    "bookdf.select('Book-Title').distinct().count()"
   ]
  },
  {
   "cell_type": "code",
   "execution_count": 108,
   "id": "52377a13",
   "metadata": {},
   "outputs": [
    {
     "name": "stdout",
     "output_type": "stream",
     "text": [
      "+-------+----------+-----------+\n",
      "|User-ID|      ISBN|Book-Rating|\n",
      "+-------+----------+-----------+\n",
      "| 276725|034545104X|          0|\n",
      "| 276726|0155061224|          5|\n",
      "| 276727|0446520802|          0|\n",
      "| 276729|052165615X|          3|\n",
      "| 276729|0521795028|          6|\n",
      "+-------+----------+-----------+\n",
      "only showing top 5 rows\n",
      "\n"
     ]
    }
   ],
   "source": [
    "ratingdf = spark.read.csv(r\"C:\\Users\\drang\\Downloads\\books_data\\ratings.csv\", header=True, inferSchema=True, sep =\";\")\n",
    "ratingdf.show(5)"
   ]
  },
  {
   "cell_type": "code",
   "execution_count": 109,
   "id": "9493aa79",
   "metadata": {},
   "outputs": [],
   "source": [
    "ratingdf = ratingdf.withColumnRenamed(\"Book-Rating\", \"rating\") # - is infered by sql as space"
   ]
  },
  {
   "cell_type": "code",
   "execution_count": 110,
   "id": "ab1d2ae4",
   "metadata": {},
   "outputs": [],
   "source": [
    "ratingdf = ratingdf.withColumnRenamed(\"User-ID\", \"userid\")"
   ]
  },
  {
   "cell_type": "code",
   "execution_count": 69,
   "id": "64d393a7",
   "metadata": {},
   "outputs": [],
   "source": [
    "userdf = userdf.withColumnRenamed(\"User-ID\", \"userid\")"
   ]
  },
  {
   "cell_type": "code",
   "execution_count": 70,
   "id": "ca14f813",
   "metadata": {},
   "outputs": [],
   "source": [
    "bookdf = bookdf.withColumnRenamed(\"Book-Title\", \"booktitle\")"
   ]
  },
  {
   "cell_type": "code",
   "execution_count": 76,
   "id": "6ad0d766",
   "metadata": {},
   "outputs": [
    {
     "data": {
      "text/plain": [
       "78610"
      ]
     },
     "execution_count": 76,
     "metadata": {},
     "output_type": "execute_result"
    }
   ],
   "source": [
    "ratingdf.filter('rating >9').count()"
   ]
  },
  {
   "cell_type": "code",
   "execution_count": 78,
   "id": "11da917f",
   "metadata": {},
   "outputs": [
    {
     "name": "stdout",
     "output_type": "stream",
     "text": [
      "+----------+\n",
      "|      ISBN|\n",
      "+----------+\n",
      "| 342310538|\n",
      "|8440682697|\n",
      "|3499230933|\n",
      "|3596151465|\n",
      "|055310666X|\n",
      "|0395547032|\n",
      "|0440414121|\n",
      "|0060096195|\n",
      "|0142302198|\n",
      "|038076041X|\n",
      "|0699854289|\n",
      "|0786817070|\n",
      "|0805057706|\n",
      "|1573248533|\n",
      "|3125785006|\n",
      "|3423071516|\n",
      "|3442413508|\n",
      "|3442441080|\n",
      "|3442446414|\n",
      "|3506464078|\n",
      "+----------+\n",
      "only showing top 20 rows\n",
      "\n"
     ]
    }
   ],
   "source": [
    "ratingdf.filter('rating >9').select('ISBN').show()"
   ]
  },
  {
   "cell_type": "code",
   "execution_count": 82,
   "id": "6e127d68",
   "metadata": {},
   "outputs": [
    {
     "data": {
      "text/plain": [
       "278859"
      ]
     },
     "execution_count": 82,
     "metadata": {},
     "output_type": "execute_result"
    }
   ],
   "source": [
    "userdf.count()"
   ]
  },
  {
   "cell_type": "code",
   "execution_count": 83,
   "id": "657aa714",
   "metadata": {},
   "outputs": [
    {
     "data": {
      "text/plain": [
       "278859"
      ]
     },
     "execution_count": 83,
     "metadata": {},
     "output_type": "execute_result"
    }
   ],
   "source": [
    "userdf.dropDuplicates().count()"
   ]
  },
  {
   "cell_type": "code",
   "execution_count": 135,
   "id": "389aa4e9",
   "metadata": {},
   "outputs": [
    {
     "data": {
      "text/plain": [
       "278857"
      ]
     },
     "execution_count": 135,
     "metadata": {},
     "output_type": "execute_result"
    }
   ],
   "source": [
    "userdf.select('Age').dropna(\"all\").count() #or userdf.dropna()  same"
   ]
  },
  {
   "cell_type": "code",
   "execution_count": 147,
   "id": "cda3efd7",
   "metadata": {},
   "outputs": [
    {
     "data": {
      "text/plain": [
       "110761"
      ]
     },
     "execution_count": 147,
     "metadata": {},
     "output_type": "execute_result"
    }
   ],
   "source": [
    "userdf.filter(\"Age == 'NULL'\").count()"
   ]
  },
  {
   "cell_type": "code",
   "execution_count": 139,
   "id": "fbfd08c7",
   "metadata": {},
   "outputs": [
    {
     "name": "stdout",
     "output_type": "stream",
     "text": [
      "+-----------+\n",
      "|max(rating)|\n",
      "+-----------+\n",
      "|         10|\n",
      "+-----------+\n",
      "\n"
     ]
    }
   ],
   "source": [
    "ratingdf.agg({'rating' : 'max'}).show()"
   ]
  },
  {
   "cell_type": "code",
   "execution_count": 95,
   "id": "20784fde",
   "metadata": {},
   "outputs": [
    {
     "name": "stdout",
     "output_type": "stream",
     "text": [
      "+------+------+\n",
      "|rating| count|\n",
      "+------+------+\n",
      "|     1|  1770|\n",
      "|     6| 36924|\n",
      "|     3|  5996|\n",
      "|     5| 50974|\n",
      "|     9| 67541|\n",
      "|     4|  8904|\n",
      "|     8|103736|\n",
      "|     7| 76457|\n",
      "|    10| 78610|\n",
      "|     2|  2759|\n",
      "|     0|716109|\n",
      "+------+------+\n",
      "\n"
     ]
    }
   ],
   "source": [
    "ratingdf.groupby('rating').count().show()"
   ]
  },
  {
   "cell_type": "code",
   "execution_count": 89,
   "id": "4dcc09b4",
   "metadata": {},
   "outputs": [
    {
     "data": {
      "text/html": [
       "<div>\n",
       "<style scoped>\n",
       "    .dataframe tbody tr th:only-of-type {\n",
       "        vertical-align: middle;\n",
       "    }\n",
       "\n",
       "    .dataframe tbody tr th {\n",
       "        vertical-align: top;\n",
       "    }\n",
       "\n",
       "    .dataframe thead th {\n",
       "        text-align: right;\n",
       "    }\n",
       "</style>\n",
       "<table border=\"1\" class=\"dataframe\">\n",
       "  <thead>\n",
       "    <tr style=\"text-align: right;\">\n",
       "      <th></th>\n",
       "      <th>rating</th>\n",
       "      <th>count</th>\n",
       "    </tr>\n",
       "  </thead>\n",
       "  <tbody>\n",
       "    <tr>\n",
       "      <th>0</th>\n",
       "      <td>1</td>\n",
       "      <td>1770</td>\n",
       "    </tr>\n",
       "    <tr>\n",
       "      <th>1</th>\n",
       "      <td>6</td>\n",
       "      <td>36924</td>\n",
       "    </tr>\n",
       "    <tr>\n",
       "      <th>2</th>\n",
       "      <td>3</td>\n",
       "      <td>5996</td>\n",
       "    </tr>\n",
       "    <tr>\n",
       "      <th>3</th>\n",
       "      <td>5</td>\n",
       "      <td>50974</td>\n",
       "    </tr>\n",
       "    <tr>\n",
       "      <th>4</th>\n",
       "      <td>9</td>\n",
       "      <td>67541</td>\n",
       "    </tr>\n",
       "    <tr>\n",
       "      <th>5</th>\n",
       "      <td>4</td>\n",
       "      <td>8904</td>\n",
       "    </tr>\n",
       "    <tr>\n",
       "      <th>6</th>\n",
       "      <td>8</td>\n",
       "      <td>103736</td>\n",
       "    </tr>\n",
       "    <tr>\n",
       "      <th>7</th>\n",
       "      <td>7</td>\n",
       "      <td>76457</td>\n",
       "    </tr>\n",
       "    <tr>\n",
       "      <th>8</th>\n",
       "      <td>10</td>\n",
       "      <td>78610</td>\n",
       "    </tr>\n",
       "    <tr>\n",
       "      <th>9</th>\n",
       "      <td>2</td>\n",
       "      <td>2759</td>\n",
       "    </tr>\n",
       "    <tr>\n",
       "      <th>10</th>\n",
       "      <td>0</td>\n",
       "      <td>716109</td>\n",
       "    </tr>\n",
       "  </tbody>\n",
       "</table>\n",
       "</div>"
      ],
      "text/plain": [
       "    rating   count\n",
       "0        1    1770\n",
       "1        6   36924\n",
       "2        3    5996\n",
       "3        5   50974\n",
       "4        9   67541\n",
       "5        4    8904\n",
       "6        8  103736\n",
       "7        7   76457\n",
       "8       10   78610\n",
       "9        2    2759\n",
       "10       0  716109"
      ]
     },
     "execution_count": 89,
     "metadata": {},
     "output_type": "execute_result"
    }
   ],
   "source": [
    "ratingdf.groupby('rating').count().toPandas()"
   ]
  },
  {
   "cell_type": "code",
   "execution_count": 97,
   "id": "406f3d6b",
   "metadata": {},
   "outputs": [
    {
     "name": "stdout",
     "output_type": "stream",
     "text": [
      "+------+----------+------+\n",
      "|userid|      ISBN|rating|\n",
      "+------+----------+------+\n",
      "|276746|0425115801|     0|\n",
      "|276746|0786014512|     0|\n",
      "|276746|0449006522|     0|\n",
      "|276727|0446520802|     0|\n",
      "|276746|0553561618|     0|\n",
      "+------+----------+------+\n",
      "only showing top 5 rows\n",
      "\n"
     ]
    }
   ],
   "source": [
    "ratingdf.orderBy('rating').show(5)"
   ]
  },
  {
   "cell_type": "code",
   "execution_count": 98,
   "id": "c7422252",
   "metadata": {},
   "outputs": [
    {
     "name": "stdout",
     "output_type": "stream",
     "text": [
      "+------+----------+------+\n",
      "|userid|      ISBN|rating|\n",
      "+------+----------+------+\n",
      "|276822|0699854289|    10|\n",
      "|276847|3551551677|    10|\n",
      "|276822|0786817070|    10|\n",
      "|276760|8440682697|    10|\n",
      "|276822|0805057706|    10|\n",
      "|276772|3596151465|    10|\n",
      "|276822|1573248533|    10|\n",
      "|276808|0395547032|    10|\n",
      "|276835|3125785006|    10|\n",
      "|276822|0060096195|    10|\n",
      "|276847|3423071516|    10|\n",
      "|276847|3551551685|    10|\n",
      "|276847|3442413508|    10|\n",
      "|276745| 342310538|    10|\n",
      "|276847|3442441080|    10|\n",
      "|276788|055310666X|    10|\n",
      "|276847|3442446414|    10|\n",
      "|276822|0142302198|    10|\n",
      "|276847|3506464078|    10|\n",
      "|276772|3499230933|    10|\n",
      "+------+----------+------+\n",
      "only showing top 20 rows\n",
      "\n"
     ]
    }
   ],
   "source": [
    "ratingdf.orderBy(ratingdf.rating.desc()).show()"
   ]
  },
  {
   "cell_type": "code",
   "execution_count": 118,
   "id": "3361dae0",
   "metadata": {},
   "outputs": [],
   "source": [
    "new = ratingdf.withColumn('rate100', ratingdf.rating*10)"
   ]
  },
  {
   "cell_type": "code",
   "execution_count": 120,
   "id": "6ef01b37",
   "metadata": {},
   "outputs": [
    {
     "name": "stdout",
     "output_type": "stream",
     "text": [
      "+------+----------+------+\n",
      "|userid|      ISBN|rating|\n",
      "+------+----------+------+\n",
      "|276725|034545104X|     0|\n",
      "|276726|0155061224|     5|\n",
      "|276727|0446520802|     0|\n",
      "|276729|052165615X|     3|\n",
      "|276729|0521795028|     6|\n",
      "+------+----------+------+\n",
      "only showing top 5 rows\n",
      "\n"
     ]
    }
   ],
   "source": [
    "ratingdf.show(5)"
   ]
  },
  {
   "cell_type": "code",
   "execution_count": 119,
   "id": "e6ea8063",
   "metadata": {},
   "outputs": [
    {
     "name": "stdout",
     "output_type": "stream",
     "text": [
      "+------+----------+------+-------+\n",
      "|userid|      ISBN|rating|rate100|\n",
      "+------+----------+------+-------+\n",
      "|276725|034545104X|     0|      0|\n",
      "|276726|0155061224|     5|     50|\n",
      "|276727|0446520802|     0|      0|\n",
      "|276729|052165615X|     3|     30|\n",
      "|276729|0521795028|     6|     60|\n",
      "+------+----------+------+-------+\n",
      "only showing top 5 rows\n",
      "\n"
     ]
    }
   ],
   "source": [
    "new.show(5)"
   ]
  },
  {
   "cell_type": "code",
   "execution_count": 121,
   "id": "9af28a3e",
   "metadata": {},
   "outputs": [
    {
     "data": {
      "text/plain": [
       "DataFrame[ISBN: string, booktitle: string, Book-Author: string, Year-Of-Publication: int, Publisher: string, Image-URL-S: string, Image-URL-M: string, Image-URL-L: string]"
      ]
     },
     "execution_count": 121,
     "metadata": {},
     "output_type": "execute_result"
    }
   ],
   "source": [
    "bookdf"
   ]
  },
  {
   "cell_type": "code",
   "execution_count": 124,
   "id": "c3b0f5a4",
   "metadata": {},
   "outputs": [
    {
     "name": "stdout",
     "output_type": "stream",
     "text": [
      "+--------------------+------+\n",
      "|           booktitle|rating|\n",
      "+--------------------+------+\n",
      "|Little Wolf's Boo...|    10|\n",
      "|        The Romantic|    10|\n",
      "|Glue (First Facts...|    10|\n",
      "| The Moon of Gomrath|    10|\n",
      "|The Brambly Hedge...|    10|\n",
      "+--------------------+------+\n",
      "only showing top 5 rows\n",
      "\n"
     ]
    }
   ],
   "source": [
    "ratingdf.join(bookdf, ratingdf.ISBN == bookdf.ISBN).select('booktitle','rating').orderBy(ratingdf.rating.desc()).show(5)"
   ]
  },
  {
   "cell_type": "code",
   "execution_count": null,
   "id": "3277cdef",
   "metadata": {},
   "outputs": [],
   "source": []
  }
 ],
 "metadata": {
  "kernelspec": {
   "display_name": "Python 3 (ipykernel)",
   "language": "python",
   "name": "python3"
  },
  "language_info": {
   "codemirror_mode": {
    "name": "ipython",
    "version": 3
   },
   "file_extension": ".py",
   "mimetype": "text/x-python",
   "name": "python",
   "nbconvert_exporter": "python",
   "pygments_lexer": "ipython3",
   "version": "3.8.13"
  }
 },
 "nbformat": 4,
 "nbformat_minor": 5
}
