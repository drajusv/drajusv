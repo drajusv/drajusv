{
 "cells": [
  {
   "cell_type": "code",
   "execution_count": 1,
   "id": "7917c509",
   "metadata": {},
   "outputs": [],
   "source": [
    "import findspark"
   ]
  },
  {
   "cell_type": "code",
   "execution_count": 2,
   "id": "ccd33fbe",
   "metadata": {},
   "outputs": [],
   "source": [
    "findspark.init()"
   ]
  },
  {
   "cell_type": "code",
   "execution_count": 3,
   "id": "37120b84",
   "metadata": {
    "scrolled": true
   },
   "outputs": [
    {
     "data": {
      "text/plain": [
       "'C:\\\\spark-3.3.1-bin-hadoop2'"
      ]
     },
     "execution_count": 3,
     "metadata": {},
     "output_type": "execute_result"
    }
   ],
   "source": [
    "findspark.find()"
   ]
  },
  {
   "cell_type": "markdown",
   "id": "e4a970e5",
   "metadata": {},
   "source": [
    "# method 1 reading csv file into spark session directly from local"
   ]
  },
  {
   "cell_type": "code",
   "execution_count": 4,
   "id": "3d03f669",
   "metadata": {},
   "outputs": [],
   "source": [
    "\n",
    "from pyspark.sql import SparkSession\n",
    "from pyspark.sql.functions import col, cast, count, isnan, isnull, when\n"
   ]
  },
  {
   "cell_type": "code",
   "execution_count": 5,
   "id": "96e09c97",
   "metadata": {},
   "outputs": [],
   "source": [
    "spark = SparkSession.builder.appName(\"diabet\").master(\"local[2]\").getOrCreate()"
   ]
  },
  {
   "cell_type": "code",
   "execution_count": 6,
   "id": "05ff8f83",
   "metadata": {},
   "outputs": [
    {
     "data": {
      "text/html": [
       "\n",
       "            <div>\n",
       "                <p><b>SparkSession - in-memory</b></p>\n",
       "                \n",
       "        <div>\n",
       "            <p><b>SparkContext</b></p>\n",
       "\n",
       "            <p><a href=\"http://192.168.1.3:4041\">Spark UI</a></p>\n",
       "\n",
       "            <dl>\n",
       "              <dt>Version</dt>\n",
       "                <dd><code>v3.3.1</code></dd>\n",
       "              <dt>Master</dt>\n",
       "                <dd><code>local[2]</code></dd>\n",
       "              <dt>AppName</dt>\n",
       "                <dd><code>diabet</code></dd>\n",
       "            </dl>\n",
       "        </div>\n",
       "        \n",
       "            </div>\n",
       "        "
      ],
      "text/plain": [
       "<pyspark.sql.session.SparkSession at 0x266825d4400>"
      ]
     },
     "execution_count": 6,
     "metadata": {},
     "output_type": "execute_result"
    }
   ],
   "source": [
    "spark"
   ]
  },
  {
   "cell_type": "code",
   "execution_count": 8,
   "id": "abaf21b5",
   "metadata": {},
   "outputs": [],
   "source": [
    "#spark.sparkContext.setSystemProperty()"
   ]
  },
  {
   "cell_type": "code",
   "execution_count": 9,
   "id": "80e8c65a",
   "metadata": {},
   "outputs": [
    {
     "name": "stdout",
     "output_type": "stream",
     "text": [
      "2\n"
     ]
    }
   ],
   "source": [
    "rawd = spark.read.csv(\"../drang/Downloads/diabetes.csv\", header=True)\n",
    "df = spark.range(0,20)\n",
    "print(df.rdd.getNumPartitions())"
   ]
  },
  {
   "cell_type": "code",
   "execution_count": 10,
   "id": "aa0f083a",
   "metadata": {},
   "outputs": [
    {
     "data": {
      "text/plain": [
       "1"
      ]
     },
     "execution_count": 10,
     "metadata": {},
     "output_type": "execute_result"
    }
   ],
   "source": [
    "rawd.rdd.getNumPartitions()"
   ]
  },
  {
   "cell_type": "markdown",
   "id": "553c67b0",
   "metadata": {},
   "source": [
    "#  method 2 creating DB from csv local file and updating to server"
   ]
  },
  {
   "cell_type": "code",
   "execution_count": 11,
   "id": "a94d1060",
   "metadata": {},
   "outputs": [],
   "source": [
    "#method 2 creating DB from csv local file and updating to server\n",
    "import pandas as pd\n",
    "\n",
    "data = pd.read_csv(r\"C:\\Users\\drang\\Downloads\\diabetes.csv\")\n"
   ]
  },
  {
   "cell_type": "code",
   "execution_count": 12,
   "id": "3e88f38b",
   "metadata": {},
   "outputs": [],
   "source": [
    "import mysql.connector\n",
    "\n",
    "db_connection = mysql.connector.connect(user=\"root\", password=\"Art8870496550!@#\")\n",
    "db_cursor = db_connection.cursor(buffered=True)\n",
    "#db_cursor.execute(\"CREATE DATABASE DDB;\")\n",
    "db_cursor.execute(\"USE DDB;\")\n",
    "\n"
   ]
  },
  {
   "cell_type": "code",
   "execution_count": 13,
   "id": "ea744bee",
   "metadata": {},
   "outputs": [
    {
     "ename": "ProgrammingError",
     "evalue": "1050 (42S01): Table 'diabete' already exists",
     "output_type": "error",
     "traceback": [
      "\u001b[1;31m---------------------------------------------------------------------------\u001b[0m",
      "\u001b[1;31mMySQLInterfaceError\u001b[0m                       Traceback (most recent call last)",
      "File \u001b[1;32m~\\anaconda3\\envs\\CV0\\lib\\site-packages\\mysql\\connector\\connection_cext.py:565\u001b[0m, in \u001b[0;36mCMySQLConnection.cmd_query\u001b[1;34m(self, query, raw, buffered, raw_as_string)\u001b[0m\n\u001b[0;32m    564\u001b[0m         query \u001b[38;5;241m=\u001b[39m query\u001b[38;5;241m.\u001b[39mencode(\u001b[38;5;124m\"\u001b[39m\u001b[38;5;124mutf-8\u001b[39m\u001b[38;5;124m\"\u001b[39m)\n\u001b[1;32m--> 565\u001b[0m     \u001b[38;5;28;43mself\u001b[39;49m\u001b[38;5;241;43m.\u001b[39;49m\u001b[43m_cmysql\u001b[49m\u001b[38;5;241;43m.\u001b[39;49m\u001b[43mquery\u001b[49m\u001b[43m(\u001b[49m\n\u001b[0;32m    566\u001b[0m \u001b[43m        \u001b[49m\u001b[43mquery\u001b[49m\u001b[43m,\u001b[49m\n\u001b[0;32m    567\u001b[0m \u001b[43m        \u001b[49m\u001b[43mraw\u001b[49m\u001b[38;5;241;43m=\u001b[39;49m\u001b[43mraw\u001b[49m\u001b[43m,\u001b[49m\n\u001b[0;32m    568\u001b[0m \u001b[43m        \u001b[49m\u001b[43mbuffered\u001b[49m\u001b[38;5;241;43m=\u001b[39;49m\u001b[43mbuffered\u001b[49m\u001b[43m,\u001b[49m\n\u001b[0;32m    569\u001b[0m \u001b[43m        \u001b[49m\u001b[43mraw_as_string\u001b[49m\u001b[38;5;241;43m=\u001b[39;49m\u001b[43mraw_as_string\u001b[49m\u001b[43m,\u001b[49m\n\u001b[0;32m    570\u001b[0m \u001b[43m        \u001b[49m\u001b[43mquery_attrs\u001b[49m\u001b[38;5;241;43m=\u001b[39;49m\u001b[38;5;28;43mself\u001b[39;49m\u001b[38;5;241;43m.\u001b[39;49m\u001b[43m_query_attrs\u001b[49m\u001b[43m,\u001b[49m\n\u001b[0;32m    571\u001b[0m \u001b[43m    \u001b[49m\u001b[43m)\u001b[49m\n\u001b[0;32m    572\u001b[0m \u001b[38;5;28;01mexcept\u001b[39;00m MySQLInterfaceError \u001b[38;5;28;01mas\u001b[39;00m err:\n",
      "\u001b[1;31mMySQLInterfaceError\u001b[0m: Table 'diabete' already exists",
      "\nThe above exception was the direct cause of the following exception:\n",
      "\u001b[1;31mProgrammingError\u001b[0m                          Traceback (most recent call last)",
      "Cell \u001b[1;32mIn [13], line 1\u001b[0m\n\u001b[1;32m----> 1\u001b[0m \u001b[43mdb_cursor\u001b[49m\u001b[38;5;241;43m.\u001b[39;49m\u001b[43mexecute\u001b[49m\u001b[43m(\u001b[49m\u001b[38;5;124;43m\"\u001b[39;49m\u001b[38;5;124;43mCREATE TABLE diabete(Pregnancies INT, Glucose INT, \u001b[39;49m\u001b[38;5;130;43;01m\\\u001b[39;49;00m\n\u001b[0;32m      2\u001b[0m \u001b[38;5;124;43m                   BloodPressure INT, SkinThickness INT, BMI FLOAT, \u001b[39;49m\u001b[38;5;130;43;01m\\\u001b[39;49;00m\n\u001b[0;32m      3\u001b[0m \u001b[38;5;124;43m                   Insulin INT, DiabetesPedigreeFunction FLOAT, Age FLOAT, Outcome INT);\u001b[39;49m\u001b[38;5;124;43m\"\u001b[39;49m\u001b[43m)\u001b[49m\n",
      "File \u001b[1;32m~\\anaconda3\\envs\\CV0\\lib\\site-packages\\mysql\\connector\\cursor_cext.py:279\u001b[0m, in \u001b[0;36mCMySQLCursor.execute\u001b[1;34m(self, operation, params, multi)\u001b[0m\n\u001b[0;32m    274\u001b[0m             \u001b[38;5;28;01mraise\u001b[39;00m ProgrammingError(\n\u001b[0;32m    275\u001b[0m                 \u001b[38;5;124m\"\u001b[39m\u001b[38;5;124mNot all parameters were used in the SQL statement\u001b[39m\u001b[38;5;124m\"\u001b[39m\n\u001b[0;32m    276\u001b[0m             )\n\u001b[0;32m    278\u001b[0m \u001b[38;5;28;01mtry\u001b[39;00m:\n\u001b[1;32m--> 279\u001b[0m     result \u001b[38;5;241m=\u001b[39m \u001b[38;5;28;43mself\u001b[39;49m\u001b[38;5;241;43m.\u001b[39;49m\u001b[43m_cnx\u001b[49m\u001b[38;5;241;43m.\u001b[39;49m\u001b[43mcmd_query\u001b[49m\u001b[43m(\u001b[49m\n\u001b[0;32m    280\u001b[0m \u001b[43m        \u001b[49m\u001b[43mstmt\u001b[49m\u001b[43m,\u001b[49m\n\u001b[0;32m    281\u001b[0m \u001b[43m        \u001b[49m\u001b[43mraw\u001b[49m\u001b[38;5;241;43m=\u001b[39;49m\u001b[38;5;28;43mself\u001b[39;49m\u001b[38;5;241;43m.\u001b[39;49m\u001b[43m_raw\u001b[49m\u001b[43m,\u001b[49m\n\u001b[0;32m    282\u001b[0m \u001b[43m        \u001b[49m\u001b[43mbuffered\u001b[49m\u001b[38;5;241;43m=\u001b[39;49m\u001b[38;5;28;43mself\u001b[39;49m\u001b[38;5;241;43m.\u001b[39;49m\u001b[43m_buffered\u001b[49m\u001b[43m,\u001b[49m\n\u001b[0;32m    283\u001b[0m \u001b[43m        \u001b[49m\u001b[43mraw_as_string\u001b[49m\u001b[38;5;241;43m=\u001b[39;49m\u001b[38;5;28;43mself\u001b[39;49m\u001b[38;5;241;43m.\u001b[39;49m\u001b[43m_raw_as_string\u001b[49m\u001b[43m,\u001b[49m\n\u001b[0;32m    284\u001b[0m \u001b[43m    \u001b[49m\u001b[43m)\u001b[49m\n\u001b[0;32m    285\u001b[0m \u001b[38;5;28;01mexcept\u001b[39;00m MySQLInterfaceError \u001b[38;5;28;01mas\u001b[39;00m err:\n\u001b[0;32m    286\u001b[0m     \u001b[38;5;28;01mraise\u001b[39;00m get_mysql_exception(\n\u001b[0;32m    287\u001b[0m         msg\u001b[38;5;241m=\u001b[39merr\u001b[38;5;241m.\u001b[39mmsg, errno\u001b[38;5;241m=\u001b[39merr\u001b[38;5;241m.\u001b[39merrno, sqlstate\u001b[38;5;241m=\u001b[39merr\u001b[38;5;241m.\u001b[39msqlstate\n\u001b[0;32m    288\u001b[0m     ) \u001b[38;5;28;01mfrom\u001b[39;00m \u001b[38;5;21;01merr\u001b[39;00m\n",
      "File \u001b[1;32m~\\anaconda3\\envs\\CV0\\lib\\site-packages\\mysql\\connector\\connection_cext.py:573\u001b[0m, in \u001b[0;36mCMySQLConnection.cmd_query\u001b[1;34m(self, query, raw, buffered, raw_as_string)\u001b[0m\n\u001b[0;32m    565\u001b[0m     \u001b[38;5;28mself\u001b[39m\u001b[38;5;241m.\u001b[39m_cmysql\u001b[38;5;241m.\u001b[39mquery(\n\u001b[0;32m    566\u001b[0m         query,\n\u001b[0;32m    567\u001b[0m         raw\u001b[38;5;241m=\u001b[39mraw,\n\u001b[1;32m   (...)\u001b[0m\n\u001b[0;32m    570\u001b[0m         query_attrs\u001b[38;5;241m=\u001b[39m\u001b[38;5;28mself\u001b[39m\u001b[38;5;241m.\u001b[39m_query_attrs,\n\u001b[0;32m    571\u001b[0m     )\n\u001b[0;32m    572\u001b[0m \u001b[38;5;28;01mexcept\u001b[39;00m MySQLInterfaceError \u001b[38;5;28;01mas\u001b[39;00m err:\n\u001b[1;32m--> 573\u001b[0m     \u001b[38;5;28;01mraise\u001b[39;00m get_mysql_exception(\n\u001b[0;32m    574\u001b[0m         err\u001b[38;5;241m.\u001b[39merrno, msg\u001b[38;5;241m=\u001b[39merr\u001b[38;5;241m.\u001b[39mmsg, sqlstate\u001b[38;5;241m=\u001b[39merr\u001b[38;5;241m.\u001b[39msqlstate\n\u001b[0;32m    575\u001b[0m     ) \u001b[38;5;28;01mfrom\u001b[39;00m \u001b[38;5;21;01merr\u001b[39;00m\n\u001b[0;32m    576\u001b[0m \u001b[38;5;28;01mexcept\u001b[39;00m \u001b[38;5;167;01mAttributeError\u001b[39;00m \u001b[38;5;28;01mas\u001b[39;00m err:\n\u001b[0;32m    577\u001b[0m     addr \u001b[38;5;241m=\u001b[39m (\n\u001b[0;32m    578\u001b[0m         \u001b[38;5;28mself\u001b[39m\u001b[38;5;241m.\u001b[39m_unix_socket \u001b[38;5;28;01mif\u001b[39;00m \u001b[38;5;28mself\u001b[39m\u001b[38;5;241m.\u001b[39m_unix_socket \u001b[38;5;28;01melse\u001b[39;00m \u001b[38;5;124mf\u001b[39m\u001b[38;5;124m\"\u001b[39m\u001b[38;5;132;01m{\u001b[39;00m\u001b[38;5;28mself\u001b[39m\u001b[38;5;241m.\u001b[39m_host\u001b[38;5;132;01m}\u001b[39;00m\u001b[38;5;124m:\u001b[39m\u001b[38;5;132;01m{\u001b[39;00m\u001b[38;5;28mself\u001b[39m\u001b[38;5;241m.\u001b[39m_port\u001b[38;5;132;01m}\u001b[39;00m\u001b[38;5;124m\"\u001b[39m\n\u001b[0;32m    579\u001b[0m     )\n",
      "\u001b[1;31mProgrammingError\u001b[0m: 1050 (42S01): Table 'diabete' already exists"
     ]
    }
   ],
   "source": [
    "db_cursor.execute(\"CREATE TABLE diabete(Pregnancies INT, Glucose INT, \\\n",
    "                   BloodPressure INT, SkinThickness INT, BMI FLOAT, \\\n",
    "                   Insulin INT, DiabetesPedigreeFunction FLOAT, Age FLOAT, Outcome INT);\")\n"
   ]
  },
  {
   "cell_type": "code",
   "execution_count": 14,
   "id": "9f490056",
   "metadata": {},
   "outputs": [],
   "source": [
    "#create structure for sql\n",
    "wtuples = list(data.itertuples(index=False, name=None))\n",
    "tuples_string = \",\".join([\"(\" + \",\".join([str(w) for w in wt]) + \")\" for wt in wtuples])"
   ]
  },
  {
   "cell_type": "code",
   "execution_count": 15,
   "id": "a15650b4",
   "metadata": {},
   "outputs": [],
   "source": [
    "db_cursor.execute(\"INSERT INTO diabete(Pregnancies, Glucose, BloodPressure,\\\n",
    "                   SkinThickness, Insulin, BMI, DiabetesPedigreeFunction, Age, Outcome) VALUES \" + tuples_string + \";\")\n",
    "db_cursor.execute(\"FLUSH TABLES;\")"
   ]
  },
  {
   "cell_type": "code",
   "execution_count": 16,
   "id": "bb66b72f",
   "metadata": {},
   "outputs": [],
   "source": [
    "db_cursor.execute(\"SELECT * FROM diabete;\")"
   ]
  },
  {
   "cell_type": "code",
   "execution_count": 17,
   "id": "f8718b40",
   "metadata": {},
   "outputs": [],
   "source": [
    "spark.stop()"
   ]
  },
  {
   "cell_type": "markdown",
   "id": "17c34359",
   "metadata": {},
   "source": [
    "# method 2-2pt read data from mysql server into spark session"
   ]
  },
  {
   "cell_type": "code",
   "execution_count": 18,
   "id": "7ff6913a",
   "metadata": {},
   "outputs": [],
   "source": [
    "from pyspark.sql import SparkSession\n",
    "spark = SparkSession.builder.config(\"spark.jars\", r\"C:\\spark-3.3.1-bin-hadoop2\\jars\\mysql-connector-j-8.0.31.jar\") \\\n",
    ".config(\"spark.driver.extraClassPath\", r\"C:\\spark-3.3.1-bin-hadoop2\\jars\\mysql-connector-j-8.0.31.jar\") \\\n",
    ".config(\"spark.executor.extraClassPath\", r\"C:\\spark-3.3.1-bin-hadoop2\\jars\\mysql-connector-j-8.0.31.jar\") \\\n",
    ".config(\"spark.executor.extraLibrary\", r\"C:\\spark-3.3.1-bin-hadoop2\\jars\\mysql-connector-j-8.0.31.jar\") \\\n",
    "    .master(\"local\").appName(\"PySpark_MySQL_test\").enableHiveSupport().getOrCreate()\n",
    "#last 2 configs for cluster mode instead of local mode  \n",
    "    \n",
    "    \n",
    "df = spark.read.format(\"jdbc\").option(\"url\", \"jdbc:mysql://localhost:3306/DDB\") \\\n",
    "    .option(\"driver\", \"com.mysql.jdbc.Driver\").option(\"dbtable\", \"diabete\") \\\n",
    "    .option(\"user\", \"root\").option(\"password\", \"Art8870496550!@#\").load() "
   ]
  },
  {
   "cell_type": "code",
   "execution_count": 19,
   "id": "b303d55e",
   "metadata": {},
   "outputs": [
    {
     "name": "stdout",
     "output_type": "stream",
     "text": [
      "+-----------+-------+-------------+-------------+----+-------+------------------------+----+-------+\n",
      "|Pregnancies|Glucose|BloodPressure|SkinThickness| BMI|Insulin|DiabetesPedigreeFunction| Age|Outcome|\n",
      "+-----------+-------+-------------+-------------+----+-------+------------------------+----+-------+\n",
      "|          6|    148|           72|           35|33.6|      0|                   0.627|50.0|      1|\n",
      "|          1|     85|           66|           29|26.6|      0|                   0.351|31.0|      0|\n",
      "|          8|    183|           64|            0|23.3|      0|                   0.672|32.0|      1|\n",
      "|          1|     89|           66|           23|28.1|     94|                   0.167|21.0|      0|\n",
      "|          0|    137|           40|           35|43.1|    168|                   2.288|33.0|      1|\n",
      "|          5|    116|           74|            0|25.6|      0|                   0.201|30.0|      0|\n",
      "|          3|     78|           50|           32|31.0|     88|                   0.248|26.0|      1|\n",
      "|         10|    115|            0|            0|35.3|      0|                   0.134|29.0|      0|\n",
      "|          2|    197|           70|           45|30.5|    543|                   0.158|53.0|      1|\n",
      "|          8|    125|           96|            0| 0.0|      0|                   0.232|54.0|      1|\n",
      "|          4|    110|           92|            0|37.6|      0|                   0.191|30.0|      0|\n",
      "|         10|    168|           74|            0|38.0|      0|                   0.537|34.0|      1|\n",
      "|         10|    139|           80|            0|27.1|      0|                   1.441|57.0|      0|\n",
      "|          1|    189|           60|           23|30.1|    846|                   0.398|59.0|      1|\n",
      "|          5|    166|           72|           19|25.8|    175|                   0.587|51.0|      1|\n",
      "|          7|    100|            0|            0|30.0|      0|                   0.484|32.0|      1|\n",
      "|          0|    118|           84|           47|45.8|    230|                   0.551|31.0|      1|\n",
      "|          7|    107|           74|            0|29.6|      0|                   0.254|31.0|      1|\n",
      "|          1|    103|           30|           38|43.3|     83|                   0.183|33.0|      0|\n",
      "|          1|    115|           70|           30|34.6|     96|                   0.529|32.0|      1|\n",
      "+-----------+-------+-------------+-------------+----+-------+------------------------+----+-------+\n",
      "only showing top 20 rows\n",
      "\n"
     ]
    }
   ],
   "source": [
    "df.show()"
   ]
  },
  {
   "cell_type": "code",
   "execution_count": 33,
   "id": "b1f1e368",
   "metadata": {},
   "outputs": [
    {
     "name": "stdout",
     "output_type": "stream",
     "text": [
      "+-----------+-------+-------------+-------------+----+-------+------------------------+----+-------+\n",
      "|Pregnancies|Glucose|BloodPressure|SkinThickness| BMI|Insulin|DiabetesPedigreeFunction| Age|Outcome|\n",
      "+-----------+-------+-------------+-------------+----+-------+------------------------+----+-------+\n",
      "|          6|    148|           72|           35|33.6|      0|                   0.627|50.0|      1|\n",
      "|          1|     85|           66|           29|26.6|      0|                   0.351|31.0|      0|\n",
      "|          8|    183|           64|            0|23.3|      0|                   0.672|32.0|      1|\n",
      "|          1|     89|           66|           23|28.1|     94|                   0.167|21.0|      0|\n",
      "|          0|    137|           40|           35|43.1|    168|                   2.288|33.0|      1|\n",
      "|          5|    116|           74|            0|25.6|      0|                   0.201|30.0|      0|\n",
      "|          3|     78|           50|           32|31.0|     88|                   0.248|26.0|      1|\n",
      "|         10|    115|            0|            0|35.3|      0|                   0.134|29.0|      0|\n",
      "|          2|    197|           70|           45|30.5|    543|                   0.158|53.0|      1|\n",
      "|          8|    125|           96|            0| 0.0|      0|                   0.232|54.0|      1|\n",
      "|          4|    110|           92|            0|37.6|      0|                   0.191|30.0|      0|\n",
      "|         10|    168|           74|            0|38.0|      0|                   0.537|34.0|      1|\n",
      "|         10|    139|           80|            0|27.1|      0|                   1.441|57.0|      0|\n",
      "|          1|    189|           60|           23|30.1|    846|                   0.398|59.0|      1|\n",
      "|          5|    166|           72|           19|25.8|    175|                   0.587|51.0|      1|\n",
      "|          7|    100|            0|            0|30.0|      0|                   0.484|32.0|      1|\n",
      "|          0|    118|           84|           47|45.8|    230|                   0.551|31.0|      1|\n",
      "|          7|    107|           74|            0|29.6|      0|                   0.254|31.0|      1|\n",
      "|          1|    103|           30|           38|43.3|     83|                   0.183|33.0|      0|\n",
      "|          1|    115|           70|           30|34.6|     96|                   0.529|32.0|      1|\n",
      "+-----------+-------+-------------+-------------+----+-------+------------------------+----+-------+\n",
      "only showing top 20 rows\n",
      "\n"
     ]
    }
   ],
   "source": []
  },
  {
   "cell_type": "code",
   "execution_count": 44,
   "id": "02cfe152",
   "metadata": {},
   "outputs": [
    {
     "name": "stdout",
     "output_type": "stream",
     "text": [
      "+-----------+-------+-------------+-------------+----+-------+------------------------+----+-------+\n",
      "|Pregnancies|Glucose|BloodPressure|SkinThickness| BMI|Insulin|DiabetesPedigreeFunction| Age|Outcome|\n",
      "+-----------+-------+-------------+-------------+----+-------+------------------------+----+-------+\n",
      "|          6|    148|           72|           35|33.6|      0|                   0.627|50.0|      1|\n",
      "|          1|     85|           66|           29|26.6|      0|                   0.351|31.0|      0|\n",
      "|          8|    183|           64|            0|23.3|      0|                   0.672|32.0|      1|\n",
      "|          1|     89|           66|           23|28.1|     94|                   0.167|21.0|      0|\n",
      "|          0|    137|           40|           35|43.1|    168|                   2.288|33.0|      1|\n",
      "|          5|    116|           74|            0|25.6|      0|                   0.201|30.0|      0|\n",
      "|          3|     78|           50|           32|31.0|     88|                   0.248|26.0|      1|\n",
      "|         10|    115|            0|            0|35.3|      0|                   0.134|29.0|      0|\n",
      "|          2|    197|           70|           45|30.5|    543|                   0.158|53.0|      1|\n",
      "|          8|    125|           96|            0| 0.0|      0|                   0.232|54.0|      1|\n",
      "|          4|    110|           92|            0|37.6|      0|                   0.191|30.0|      0|\n",
      "|         10|    168|           74|            0|38.0|      0|                   0.537|34.0|      1|\n",
      "|         10|    139|           80|            0|27.1|      0|                   1.441|57.0|      0|\n",
      "|          1|    189|           60|           23|30.1|    846|                   0.398|59.0|      1|\n",
      "|          5|    166|           72|           19|25.8|    175|                   0.587|51.0|      1|\n",
      "|          7|    100|            0|            0|30.0|      0|                   0.484|32.0|      1|\n",
      "|          0|    118|           84|           47|45.8|    230|                   0.551|31.0|      1|\n",
      "|          7|    107|           74|            0|29.6|      0|                   0.254|31.0|      1|\n",
      "|          1|    103|           30|           38|43.3|     83|                   0.183|33.0|      0|\n",
      "|          1|    115|           70|           30|34.6|     96|                   0.529|32.0|      1|\n",
      "+-----------+-------+-------------+-------------+----+-------+------------------------+----+-------+\n",
      "only showing top 20 rows\n",
      "\n"
     ]
    }
   ],
   "source": [
    "df.write.bucketBy(3,\"age\")\n",
    "#df.rdd.collect()\n",
    "df.show()"
   ]
  },
  {
   "cell_type": "code",
   "execution_count": 45,
   "id": "5fca5676",
   "metadata": {},
   "outputs": [],
   "source": [
    "columnname = rawd.columns"
   ]
  },
  {
   "cell_type": "code",
   "execution_count": 47,
   "id": "acc57d87",
   "metadata": {},
   "outputs": [
    {
     "name": "stdout",
     "output_type": "stream",
     "text": [
      "root\n",
      " |-- Pregnancies: integer (nullable = true)\n",
      " |-- Glucose: integer (nullable = true)\n",
      " |-- BloodPressure: integer (nullable = true)\n",
      " |-- SkinThickness: integer (nullable = true)\n",
      " |-- BMI: double (nullable = true)\n",
      " |-- Insulin: integer (nullable = true)\n",
      " |-- DiabetesPedigreeFunction: double (nullable = true)\n",
      " |-- Age: double (nullable = true)\n",
      " |-- Outcome: integer (nullable = true)\n",
      "\n"
     ]
    }
   ],
   "source": [
    "df.printSchema()"
   ]
  },
  {
   "cell_type": "code",
   "execution_count": 48,
   "id": "2c97eff1",
   "metadata": {},
   "outputs": [],
   "source": [
    "rawf = df.select(*(col(c).cast('float').alias(c) for c in rawd.columns))"
   ]
  },
  {
   "cell_type": "code",
   "execution_count": 49,
   "id": "49839633",
   "metadata": {},
   "outputs": [
    {
     "name": "stdout",
     "output_type": "stream",
     "text": [
      "root\n",
      " |-- Pregnancies: float (nullable = true)\n",
      " |-- Glucose: float (nullable = true)\n",
      " |-- BloodPressure: float (nullable = true)\n",
      " |-- SkinThickness: float (nullable = true)\n",
      " |-- Insulin: float (nullable = true)\n",
      " |-- BMI: float (nullable = true)\n",
      " |-- DiabetesPedigreeFunction: float (nullable = true)\n",
      " |-- Age: float (nullable = true)\n",
      " |-- Outcome: float (nullable = true)\n",
      "\n"
     ]
    }
   ],
   "source": [
    "rawf.printSchema()"
   ]
  },
  {
   "cell_type": "code",
   "execution_count": 50,
   "id": "9aaf816c",
   "metadata": {},
   "outputs": [
    {
     "name": "stdout",
     "output_type": "stream",
     "text": [
      "+-----------+-------+-------------+-------------+-------+---+------------------------+---+-------+\n",
      "|Pregnancies|Glucose|BloodPressure|SkinThickness|Insulin|BMI|DiabetesPedigreeFunction|Age|Outcome|\n",
      "+-----------+-------+-------------+-------------+-------+---+------------------------+---+-------+\n",
      "|          0|      0|            0|            0|      0|  0|                       0|  0|      0|\n",
      "+-----------+-------+-------------+-------------+-------+---+------------------------+---+-------+\n",
      "\n"
     ]
    }
   ],
   "source": [
    "rawf.select([count(when(col(c).isNull(),c)).alias(c) for c in rawf.columns]).show()"
   ]
  },
  {
   "cell_type": "code",
   "execution_count": 51,
   "id": "9704d3e7",
   "metadata": {},
   "outputs": [],
   "source": [
    "#if theres null use imputer\n",
    "from pyspark.ml.feature import Imputer\n",
    "imputer = Imputer(inputCol='Age', outputCol='newage')\n",
    "model = imputer.fit(rawf)\n",
    "data = model.transform(rawf)"
   ]
  },
  {
   "cell_type": "code",
   "execution_count": 52,
   "id": "b08d16f4",
   "metadata": {},
   "outputs": [
    {
     "data": {
      "text/plain": [
       "DataFrame[Pregnancies: float, Glucose: float, BloodPressure: float, SkinThickness: float, Insulin: float, BMI: float, DiabetesPedigreeFunction: float, Age: float, Outcome: float, newage: float]"
      ]
     },
     "execution_count": 52,
     "metadata": {},
     "output_type": "execute_result"
    }
   ],
   "source": [
    "data.rdd.getNumPartitions()\n",
    "d = data.repartition(5)\n",
    "d.rdd.getNumPartitions()\n",
    "d"
   ]
  },
  {
   "cell_type": "code",
   "execution_count": 53,
   "id": "4af673a7",
   "metadata": {},
   "outputs": [
    {
     "data": {
      "text/plain": [
       "['Pregnancies',\n",
       " 'Glucose',\n",
       " 'BloodPressure',\n",
       " 'SkinThickness',\n",
       " 'Insulin',\n",
       " 'BMI',\n",
       " 'DiabetesPedigreeFunction',\n",
       " 'Age']"
      ]
     },
     "execution_count": 53,
     "metadata": {},
     "output_type": "execute_result"
    }
   ],
   "source": [
    "\n",
    "colsi = rawf.drop(data.Outcome)\n",
    "\n",
    "colsi = colsi.columns\n",
    "colsi"
   ]
  },
  {
   "cell_type": "code",
   "execution_count": 54,
   "id": "0771d6ff",
   "metadata": {},
   "outputs": [
    {
     "name": "stdout",
     "output_type": "stream",
     "text": [
      "+-----------+-------+-------------+-------------+-------+----+------------------------+----+-------+-----------------------------------------------------------------------+\n",
      "|Pregnancies|Glucose|BloodPressure|SkinThickness|Insulin|BMI |DiabetesPedigreeFunction|Age |Outcome|feature                                                                |\n",
      "+-----------+-------+-------------+-------------+-------+----+------------------------+----+-------+-----------------------------------------------------------------------+\n",
      "|6.0        |148.0  |72.0         |35.0         |0.0    |33.6|0.627                   |50.0|1.0    |[6.0,148.0,72.0,35.0,0.0,33.599998474121094,0.6269999742507935,50.0]   |\n",
      "|1.0        |85.0   |66.0         |29.0         |0.0    |26.6|0.351                   |31.0|0.0    |[1.0,85.0,66.0,29.0,0.0,26.600000381469727,0.35100001096725464,31.0]   |\n",
      "|8.0        |183.0  |64.0         |0.0          |0.0    |23.3|0.672                   |32.0|1.0    |[8.0,183.0,64.0,0.0,0.0,23.299999237060547,0.671999990940094,32.0]     |\n",
      "|1.0        |89.0   |66.0         |23.0         |94.0   |28.1|0.167                   |21.0|0.0    |[1.0,89.0,66.0,23.0,94.0,28.100000381469727,0.16699999570846558,21.0]  |\n",
      "|0.0        |137.0  |40.0         |35.0         |168.0  |43.1|2.288                   |33.0|1.0    |[0.0,137.0,40.0,35.0,168.0,43.099998474121094,2.2880001068115234,33.0] |\n",
      "|5.0        |116.0  |74.0         |0.0          |0.0    |25.6|0.201                   |30.0|0.0    |[5.0,116.0,74.0,0.0,0.0,25.600000381469727,0.20100000500679016,30.0]   |\n",
      "|3.0        |78.0   |50.0         |32.0         |88.0   |31.0|0.248                   |26.0|1.0    |[3.0,78.0,50.0,32.0,88.0,31.0,0.24799999594688416,26.0]                |\n",
      "|10.0       |115.0  |0.0          |0.0          |0.0    |35.3|0.134                   |29.0|0.0    |[10.0,115.0,0.0,0.0,0.0,35.29999923706055,0.1340000033378601,29.0]     |\n",
      "|2.0        |197.0  |70.0         |45.0         |543.0  |30.5|0.158                   |53.0|1.0    |[2.0,197.0,70.0,45.0,543.0,30.5,0.15800000727176666,53.0]              |\n",
      "|8.0        |125.0  |96.0         |0.0          |0.0    |0.0 |0.232                   |54.0|1.0    |[8.0,125.0,96.0,0.0,0.0,0.0,0.23199999332427979,54.0]                  |\n",
      "|4.0        |110.0  |92.0         |0.0          |0.0    |37.6|0.191                   |30.0|0.0    |[4.0,110.0,92.0,0.0,0.0,37.599998474121094,0.19099999964237213,30.0]   |\n",
      "|10.0       |168.0  |74.0         |0.0          |0.0    |38.0|0.537                   |34.0|1.0    |[10.0,168.0,74.0,0.0,0.0,38.0,0.5370000004768372,34.0]                 |\n",
      "|10.0       |139.0  |80.0         |0.0          |0.0    |27.1|1.441                   |57.0|0.0    |[10.0,139.0,80.0,0.0,0.0,27.100000381469727,1.440999984741211,57.0]    |\n",
      "|1.0        |189.0  |60.0         |23.0         |846.0  |30.1|0.398                   |59.0|1.0    |[1.0,189.0,60.0,23.0,846.0,30.100000381469727,0.39800000190734863,59.0]|\n",
      "|5.0        |166.0  |72.0         |19.0         |175.0  |25.8|0.587                   |51.0|1.0    |[5.0,166.0,72.0,19.0,175.0,25.799999237060547,0.5870000123977661,51.0] |\n",
      "|7.0        |100.0  |0.0          |0.0          |0.0    |30.0|0.484                   |32.0|1.0    |[7.0,100.0,0.0,0.0,0.0,30.0,0.48399999737739563,32.0]                  |\n",
      "|0.0        |118.0  |84.0         |47.0         |230.0  |45.8|0.551                   |31.0|1.0    |[0.0,118.0,84.0,47.0,230.0,45.79999923706055,0.5509999990463257,31.0]  |\n",
      "|7.0        |107.0  |74.0         |0.0          |0.0    |29.6|0.254                   |31.0|1.0    |[7.0,107.0,74.0,0.0,0.0,29.600000381469727,0.2540000081062317,31.0]    |\n",
      "|1.0        |103.0  |30.0         |38.0         |83.0   |43.3|0.183                   |33.0|0.0    |[1.0,103.0,30.0,38.0,83.0,43.29999923706055,0.18299999833106995,33.0]  |\n",
      "|1.0        |115.0  |70.0         |30.0         |96.0   |34.6|0.529                   |32.0|1.0    |[1.0,115.0,70.0,30.0,96.0,34.599998474121094,0.5289999842643738,32.0]  |\n",
      "+-----------+-------+-------------+-------------+-------+----+------------------------+----+-------+-----------------------------------------------------------------------+\n",
      "only showing top 20 rows\n",
      "\n"
     ]
    }
   ],
   "source": [
    "from pyspark.ml.feature import VectorAssembler\n",
    "n= VectorAssembler(inputCols=colsi, outputCol=\"feature\")\n",
    "newd = n.transform(rawf)\n",
    "newd.show(truncate=False)"
   ]
  },
  {
   "cell_type": "code",
   "execution_count": 55,
   "id": "9a35db5e",
   "metadata": {},
   "outputs": [],
   "source": [
    "from pyspark.ml.feature import StandardScaler\n",
    "scaler = StandardScaler(inputCol='feature', outputCol=\"scaledfeat\")\n",
    "model = scaler.fit(newd)\n",
    "scaledd = model.transform(newd)\n"
   ]
  },
  {
   "cell_type": "code",
   "execution_count": 56,
   "id": "a9e3958a",
   "metadata": {},
   "outputs": [],
   "source": [
    "newdata = scaledd.select('scaledfeat','Outcome')"
   ]
  },
  {
   "cell_type": "code",
   "execution_count": 57,
   "id": "48463886",
   "metadata": {},
   "outputs": [
    {
     "name": "stdout",
     "output_type": "stream",
     "text": [
      "+-------------------------------------------------------------------------------------------------------------------------------------------------------+-------+\n",
      "|scaledfeat                                                                                                                                             |Outcome|\n",
      "+-------------------------------------------------------------------------------------------------------------------------------------------------------+-------+\n",
      "|[1.7815667561673982,4.631374347064541,3.7217532945376686,2.195196249533762,0.0,4.263931157322168,1.8933677423459543,4.253833663939351]                 |1.0    |\n",
      "|[0.2969277926945664,2.659910942570851,3.4116071866595297,1.8188768924708312,0.0,3.3756123679198224,1.0599236453280207,2.6373768716423975]              |0.0    |\n",
      "|[2.375422341556531,5.726631794005479,3.30822515070015,0.0,0.0,2.956833250721866,2.0292554353340746,2.7224535449211844]                                 |1.0    |\n",
      "|[0.2969277926945664,2.785083222221244,3.4116071866595297,1.4425575354079005,0.816085934792367,3.565966446087695,0.5042941273229588,1.7866101388545272] |0.0    |\n",
      "|[0.0,4.28715057802596,2.067640719187594,2.195196249533762,1.4585365643097623,5.469506985718695,6.909132016946896,2.8075302181999713]                   |1.0    |\n",
      "|[1.4846389634728319,3.6299961098613966,3.8251353304970483,0.0,0.0,3.2487096491412406,0.6069648186923353,2.55230019836361]                              |0.0    |\n",
      "|[0.8907833780836991,2.440859453182663,2.5845508989844923,2.0070365710022964,0.7639953432098755,3.933984282136037,0.7488918847067458,2.2119935052484623]|1.0    |\n",
      "|[2.9692779269456637,3.5987030399487985,0.0,0.0,0.0,4.479665876064848,0.4046432124615569,2.4672235250848233]                                            |0.0    |\n",
      "|[0.5938555853891327,6.164734772781855,3.618371258578289,2.822395177971979,4.714198538215482,3.870532922746746,0.4771166337227495,4.509063683775712]    |1.0    |\n",
      "|[2.375422341556531,3.9116337390747806,4.962337726050225,0.0,0.0,0.0,0.7005762705326175,4.594140357054498]                                              |1.0    |\n",
      "|[1.1877111707782655,3.442237690385807,4.7555736541314655,0.0,0.0,4.771542032436495,0.5767675485841514,2.55230019836361]                                |0.0    |\n",
      "|[2.9692779269456637,5.257235745316505,3.8251353304970483,0.0,0.0,4.82230331358611,1.6215925363593726,2.8926068914787586]                               |1.0    |\n",
      "|[2.9692779269456637,4.349736717851156,4.135281438375188,0.0,0.0,3.4390637273091134,4.351424242226065,4.849370376890859]                                |0.0    |\n",
      "|[0.2969277926945664,5.914390213481068,3.1014610787813903,1.4425575354079005,7.3447734131313025,3.819771883644859,1.2018507113424313,5.019523723448434] |1.0    |\n",
      "|[1.4846389634728319,5.194649605491309,3.7217532945376686,1.1916779640326134,1.5193089211560022,3.2740900476683206,1.7725788419028776,4.338910337218137]|1.0    |\n",
      "|[2.078494548861965,3.1293069912598246,0.0,0.0,0.0,3.807081563357455,1.461547081281603,2.7224535449211844]                                              |1.0    |\n",
      "|[0.0,3.692582249686593,4.342045510293946,2.9478349636596226,1.9968060106621746,5.812144423239957,1.6638686875123814,2.6373768716423975]                |1.0    |\n",
      "|[2.078494548861965,3.3483584806480122,3.8251353304970483,0.0,0.0,3.756320524255568,0.7670102737701051,2.6373768716423975]                              |1.0    |\n",
      "|[0.2969277926945664,3.2231862009976195,1.5507305393906952,2.383355928065227,0.7205865168911325,5.494887626293503,0.5526097414970872,2.8075302181999713]|0.0    |\n",
      "|[0.2969277926945664,3.5987030399487985,3.618371258578289,1.881596785314653,0.8334494653198641,4.39083387610075,1.5974346842748937,2.7224535449211844]  |1.0    |\n",
      "+-------------------------------------------------------------------------------------------------------------------------------------------------------+-------+\n",
      "only showing top 20 rows\n",
      "\n"
     ]
    }
   ],
   "source": [
    "newdata.show(truncate=False)"
   ]
  },
  {
   "cell_type": "markdown",
   "id": "0451d30c",
   "metadata": {},
   "source": [
    "\n"
   ]
  },
  {
   "cell_type": "code",
   "execution_count": 58,
   "id": "c05e17c3",
   "metadata": {},
   "outputs": [],
   "source": [
    "from pyspark.ml.feature import ChiSqSelector\n",
    "chi = ChiSqSelector(numTopFeatures=6, outputCol=\"selectedcols\", featuresCol=\"scaledfeat\", labelCol=\"Outcome\")\n",
    "Sdata = chi.fit(newdata).transform(newdata)"
   ]
  },
  {
   "cell_type": "code",
   "execution_count": 59,
   "id": "a27e4998",
   "metadata": {},
   "outputs": [
    {
     "name": "stdout",
     "output_type": "stream",
     "text": [
      "+-------------------------------------------------------------------------------------------------------------------------------------------------------+-------+------------------------------------------------------------------------------------------------------------------+\n",
      "|scaledfeat                                                                                                                                             |Outcome|selectedcols                                                                                                      |\n",
      "+-------------------------------------------------------------------------------------------------------------------------------------------------------+-------+------------------------------------------------------------------------------------------------------------------+\n",
      "|[1.7815667561673982,4.631374347064541,3.7217532945376686,2.195196249533762,0.0,4.263931157322168,1.8933677423459543,4.253833663939351]                 |1.0    |[1.7815667561673982,4.631374347064541,3.7217532945376686,2.195196249533762,0.0,4.263931157322168]                 |\n",
      "|[0.2969277926945664,2.659910942570851,3.4116071866595297,1.8188768924708312,0.0,3.3756123679198224,1.0599236453280207,2.6373768716423975]              |0.0    |[0.2969277926945664,2.659910942570851,3.4116071866595297,1.8188768924708312,0.0,3.3756123679198224]               |\n",
      "|[2.375422341556531,5.726631794005479,3.30822515070015,0.0,0.0,2.956833250721866,2.0292554353340746,2.7224535449211844]                                 |1.0    |[2.375422341556531,5.726631794005479,3.30822515070015,0.0,0.0,2.956833250721866]                                  |\n",
      "|[0.2969277926945664,2.785083222221244,3.4116071866595297,1.4425575354079005,0.816085934792367,3.565966446087695,0.5042941273229588,1.7866101388545272] |0.0    |[0.2969277926945664,2.785083222221244,3.4116071866595297,1.4425575354079005,0.816085934792367,3.565966446087695]  |\n",
      "|[0.0,4.28715057802596,2.067640719187594,2.195196249533762,1.4585365643097623,5.469506985718695,6.909132016946896,2.8075302181999713]                   |1.0    |[0.0,4.28715057802596,2.067640719187594,2.195196249533762,1.4585365643097623,5.469506985718695]                   |\n",
      "|[1.4846389634728319,3.6299961098613966,3.8251353304970483,0.0,0.0,3.2487096491412406,0.6069648186923353,2.55230019836361]                              |0.0    |[1.4846389634728319,3.6299961098613966,3.8251353304970483,0.0,0.0,3.2487096491412406]                             |\n",
      "|[0.8907833780836991,2.440859453182663,2.5845508989844923,2.0070365710022964,0.7639953432098755,3.933984282136037,0.7488918847067458,2.2119935052484623]|1.0    |[0.8907833780836991,2.440859453182663,2.5845508989844923,2.0070365710022964,0.7639953432098755,3.933984282136037] |\n",
      "|[2.9692779269456637,3.5987030399487985,0.0,0.0,0.0,4.479665876064848,0.4046432124615569,2.4672235250848233]                                            |0.0    |[2.9692779269456637,3.5987030399487985,0.0,0.0,0.0,4.479665876064848]                                             |\n",
      "|[0.5938555853891327,6.164734772781855,3.618371258578289,2.822395177971979,4.714198538215482,3.870532922746746,0.4771166337227495,4.509063683775712]    |1.0    |[0.5938555853891327,6.164734772781855,3.618371258578289,2.822395177971979,4.714198538215482,3.870532922746746]    |\n",
      "|[2.375422341556531,3.9116337390747806,4.962337726050225,0.0,0.0,0.0,0.7005762705326175,4.594140357054498]                                              |1.0    |[2.375422341556531,3.9116337390747806,4.962337726050225,0.0,0.0,0.0]                                              |\n",
      "|[1.1877111707782655,3.442237690385807,4.7555736541314655,0.0,0.0,4.771542032436495,0.5767675485841514,2.55230019836361]                                |0.0    |[1.1877111707782655,3.442237690385807,4.7555736541314655,0.0,0.0,4.771542032436495]                               |\n",
      "|[2.9692779269456637,5.257235745316505,3.8251353304970483,0.0,0.0,4.82230331358611,1.6215925363593726,2.8926068914787586]                               |1.0    |[2.9692779269456637,5.257235745316505,3.8251353304970483,0.0,0.0,4.82230331358611]                                |\n",
      "|[2.9692779269456637,4.349736717851156,4.135281438375188,0.0,0.0,3.4390637273091134,4.351424242226065,4.849370376890859]                                |0.0    |[2.9692779269456637,4.349736717851156,4.135281438375188,0.0,0.0,3.4390637273091134]                               |\n",
      "|[0.2969277926945664,5.914390213481068,3.1014610787813903,1.4425575354079005,7.3447734131313025,3.819771883644859,1.2018507113424313,5.019523723448434] |1.0    |[0.2969277926945664,5.914390213481068,3.1014610787813903,1.4425575354079005,7.3447734131313025,3.819771883644859] |\n",
      "|[1.4846389634728319,5.194649605491309,3.7217532945376686,1.1916779640326134,1.5193089211560022,3.2740900476683206,1.7725788419028776,4.338910337218137]|1.0    |[1.4846389634728319,5.194649605491309,3.7217532945376686,1.1916779640326134,1.5193089211560022,3.2740900476683206]|\n",
      "|[2.078494548861965,3.1293069912598246,0.0,0.0,0.0,3.807081563357455,1.461547081281603,2.7224535449211844]                                              |1.0    |[2.078494548861965,3.1293069912598246,0.0,0.0,0.0,3.807081563357455]                                              |\n",
      "|[0.0,3.692582249686593,4.342045510293946,2.9478349636596226,1.9968060106621746,5.812144423239957,1.6638686875123814,2.6373768716423975]                |1.0    |[0.0,3.692582249686593,4.342045510293946,2.9478349636596226,1.9968060106621746,5.812144423239957]                 |\n",
      "|[2.078494548861965,3.3483584806480122,3.8251353304970483,0.0,0.0,3.756320524255568,0.7670102737701051,2.6373768716423975]                              |1.0    |[2.078494548861965,3.3483584806480122,3.8251353304970483,0.0,0.0,3.756320524255568]                               |\n",
      "|[0.2969277926945664,3.2231862009976195,1.5507305393906952,2.383355928065227,0.7205865168911325,5.494887626293503,0.5526097414970872,2.8075302181999713]|0.0    |[0.2969277926945664,3.2231862009976195,1.5507305393906952,2.383355928065227,0.7205865168911325,5.494887626293503] |\n",
      "|[0.2969277926945664,3.5987030399487985,3.618371258578289,1.881596785314653,0.8334494653198641,4.39083387610075,1.5974346842748937,2.7224535449211844]  |1.0    |[0.2969277926945664,3.5987030399487985,3.618371258578289,1.881596785314653,0.8334494653198641,4.39083387610075]   |\n",
      "+-------------------------------------------------------------------------------------------------------------------------------------------------------+-------+------------------------------------------------------------------------------------------------------------------+\n",
      "only showing top 20 rows\n",
      "\n"
     ]
    }
   ],
   "source": [
    "Sdata.show(truncate=False)"
   ]
  },
  {
   "cell_type": "code",
   "execution_count": 60,
   "id": "750eab5e",
   "metadata": {},
   "outputs": [
    {
     "data": {
      "text/plain": [
       "['Pregnancies',\n",
       " 'Glucose',\n",
       " 'BloodPressure',\n",
       " 'SkinThickness',\n",
       " 'Insulin',\n",
       " 'BMI',\n",
       " 'DiabetesPedigreeFunction',\n",
       " 'Age',\n",
       " 'Outcome']"
      ]
     },
     "execution_count": 60,
     "metadata": {},
     "output_type": "execute_result"
    }
   ],
   "source": [
    "columnname #3rd and 7th- BP & DIABETESPEDIGREE REMOVED BY CHISQ FEAT SELECTOR"
   ]
  },
  {
   "cell_type": "code",
   "execution_count": 61,
   "id": "af00afdf",
   "metadata": {},
   "outputs": [
    {
     "name": "stdout",
     "output_type": "stream",
     "text": [
      "+-------+------------------------------------------------------------------------------------------------------------------+\n",
      "|Outcome|selectedcols                                                                                                      |\n",
      "+-------+------------------------------------------------------------------------------------------------------------------+\n",
      "|1.0    |[1.7815667561673982,4.631374347064541,3.7217532945376686,2.195196249533762,0.0,4.263931157322168]                 |\n",
      "|0.0    |[0.2969277926945664,2.659910942570851,3.4116071866595297,1.8188768924708312,0.0,3.3756123679198224]               |\n",
      "|1.0    |[2.375422341556531,5.726631794005479,3.30822515070015,0.0,0.0,2.956833250721866]                                  |\n",
      "|0.0    |[0.2969277926945664,2.785083222221244,3.4116071866595297,1.4425575354079005,0.816085934792367,3.565966446087695]  |\n",
      "|1.0    |[0.0,4.28715057802596,2.067640719187594,2.195196249533762,1.4585365643097623,5.469506985718695]                   |\n",
      "|0.0    |[1.4846389634728319,3.6299961098613966,3.8251353304970483,0.0,0.0,3.2487096491412406]                             |\n",
      "|1.0    |[0.8907833780836991,2.440859453182663,2.5845508989844923,2.0070365710022964,0.7639953432098755,3.933984282136037] |\n",
      "|0.0    |[2.9692779269456637,3.5987030399487985,0.0,0.0,0.0,4.479665876064848]                                             |\n",
      "|1.0    |[0.5938555853891327,6.164734772781855,3.618371258578289,2.822395177971979,4.714198538215482,3.870532922746746]    |\n",
      "|1.0    |[2.375422341556531,3.9116337390747806,4.962337726050225,0.0,0.0,0.0]                                              |\n",
      "|0.0    |[1.1877111707782655,3.442237690385807,4.7555736541314655,0.0,0.0,4.771542032436495]                               |\n",
      "|1.0    |[2.9692779269456637,5.257235745316505,3.8251353304970483,0.0,0.0,4.82230331358611]                                |\n",
      "|0.0    |[2.9692779269456637,4.349736717851156,4.135281438375188,0.0,0.0,3.4390637273091134]                               |\n",
      "|1.0    |[0.2969277926945664,5.914390213481068,3.1014610787813903,1.4425575354079005,7.3447734131313025,3.819771883644859] |\n",
      "|1.0    |[1.4846389634728319,5.194649605491309,3.7217532945376686,1.1916779640326134,1.5193089211560022,3.2740900476683206]|\n",
      "|1.0    |[2.078494548861965,3.1293069912598246,0.0,0.0,0.0,3.807081563357455]                                              |\n",
      "|1.0    |[0.0,3.692582249686593,4.342045510293946,2.9478349636596226,1.9968060106621746,5.812144423239957]                 |\n",
      "|1.0    |[2.078494548861965,3.3483584806480122,3.8251353304970483,0.0,0.0,3.756320524255568]                               |\n",
      "|0.0    |[0.2969277926945664,3.2231862009976195,1.5507305393906952,2.383355928065227,0.7205865168911325,5.494887626293503] |\n",
      "|1.0    |[0.2969277926945664,3.5987030399487985,3.618371258578289,1.881596785314653,0.8334494653198641,4.39083387610075]   |\n",
      "+-------+------------------------------------------------------------------------------------------------------------------+\n",
      "only showing top 20 rows\n",
      "\n"
     ]
    }
   ],
   "source": [
    "Ssdata= Sdata.drop(\"scaledfeat\")\n",
    "Ssdata.show(truncate=False)"
   ]
  },
  {
   "cell_type": "code",
   "execution_count": 62,
   "id": "c6ea4c11",
   "metadata": {},
   "outputs": [
    {
     "name": "stdout",
     "output_type": "stream",
     "text": [
      "+--------------------+-------+\n",
      "|          scaledfeat|Outcome|\n",
      "+--------------------+-------+\n",
      "|[1.78156675616739...|    1.0|\n",
      "|[0.29692779269456...|    0.0|\n",
      "|[2.37542234155653...|    1.0|\n",
      "|[0.29692779269456...|    0.0|\n",
      "|[0.0,4.2871505780...|    1.0|\n",
      "|[1.48463896347283...|    0.0|\n",
      "|[0.89078337808369...|    1.0|\n",
      "|[2.96927792694566...|    0.0|\n",
      "|[0.59385558538913...|    1.0|\n",
      "|[2.37542234155653...|    1.0|\n",
      "|[1.18771117077826...|    0.0|\n",
      "|[2.96927792694566...|    1.0|\n",
      "|[2.96927792694566...|    0.0|\n",
      "|[0.29692779269456...|    1.0|\n",
      "|[1.48463896347283...|    1.0|\n",
      "|[2.07849454886196...|    1.0|\n",
      "|[0.0,3.6925822496...|    1.0|\n",
      "|[2.07849454886196...|    1.0|\n",
      "|[0.29692779269456...|    0.0|\n",
      "|[0.29692779269456...|    1.0|\n",
      "+--------------------+-------+\n",
      "only showing top 20 rows\n",
      "\n"
     ]
    }
   ],
   "source": [
    "#traib test split\n",
    "train, test = newdata.randomSplit([0.7,0.3])\n",
    "test.count()\n",
    "newdata.show()"
   ]
  },
  {
   "cell_type": "code",
   "execution_count": 63,
   "id": "fcb744ec",
   "metadata": {},
   "outputs": [],
   "source": [
    "from pyspark.ml.classification import LogisticRegression, GBTClassifier, RandomForestClassifier"
   ]
  },
  {
   "cell_type": "code",
   "execution_count": 64,
   "id": "7d56c66d",
   "metadata": {},
   "outputs": [],
   "source": [
    "logreg = LogisticRegression(labelCol=\"Outcome\", featuresCol=\"scaledfeat\", maxIter=500, regParam=0.2, elasticNetParam=0.8)\n",
    "model = logreg.fit(train)\n",
    "preds = model.transform(test)\n",
    "evals = model.evaluate(test)"
   ]
  },
  {
   "cell_type": "code",
   "execution_count": 65,
   "id": "be7a0a60",
   "metadata": {},
   "outputs": [
    {
     "name": "stdout",
     "output_type": "stream",
     "text": [
      "+--------------------+-------+--------------------+--------------------+----------+\n",
      "|          scaledfeat|Outcome|       rawPrediction|         probability|prediction|\n",
      "+--------------------+-------+--------------------+--------------------+----------+\n",
      "|(8,[0,1,6,7],[0.5...|    0.0|[0.99718573517930...|[0.73050490091389...|       0.0|\n",
      "|(8,[0,1,6,7],[0.5...|    0.0|[0.92031705914315...|[0.71510670428188...|       0.0|\n",
      "|(8,[0,1,6,7],[0.5...|    0.0|[0.92031705914315...|[0.71510670428188...|       0.0|\n",
      "|(8,[0,1,6,7],[0.5...|    0.0|[0.92031705914315...|[0.71510670428188...|       0.0|\n",
      "|(8,[0,1,6,7],[0.8...|    0.0|[0.95106452955761...|[0.72132921311564...|       0.0|\n",
      "|(8,[0,1,6,7],[2.0...|    0.0|[0.75889283946723...|[0.68111330900451...|       0.0|\n",
      "|(8,[0,1,6,7],[2.0...|    0.0|[0.75889283946723...|[0.68111330900451...|       0.0|\n",
      "|(8,[0,1,6,7],[2.9...|    1.0|[0.68202416343108...|[0.66419031987256...|       0.0|\n",
      "|(8,[1,5,6,7],[2.2...|    0.0|[1.00487260278292...|[0.73201551122081...|       0.0|\n",
      "|(8,[1,5,6,7],[2.2...|    0.0|[1.00487260278292...|[0.73201551122081...|       0.0|\n",
      "|(8,[1,5,6,7],[2.2...|    0.0|[1.00487260278292...|[0.73201551122081...|       0.0|\n",
      "|(8,[1,5,6,7],[3.0...|    0.0|[0.80501404508892...|[0.69104601107022...|       0.0|\n",
      "|(8,[1,5,6,7],[3.0...|    0.0|[0.80501404508892...|[0.69104601107022...|       0.0|\n",
      "|(8,[1,5,6,7],[3.0...|    0.0|[0.80501404508892...|[0.69104601107022...|       0.0|\n",
      "|(8,[1,5,6,7],[3.6...|    0.0|[0.66665042822385...|[0.66075272878935...|       0.0|\n",
      "|(8,[1,5,6,7],[3.6...|    0.0|[0.66665042822385...|[0.66075272878935...|       0.0|\n",
      "|(8,[1,5,6,7],[3.7...|    1.0|[0.65127669301662...|[0.65729810482891...|       0.0|\n",
      "|(8,[1,5,6,7],[3.7...|    1.0|[0.65127669301662...|[0.65729810482891...|       0.0|\n",
      "|(8,[1,5,6,7],[4.0...|    1.0|[0.55903428177324...|[0.63622906228677...|       0.0|\n",
      "|(8,[1,5,6,7],[4.0...|    1.0|[0.55903428177324...|[0.63622906228677...|       0.0|\n",
      "+--------------------+-------+--------------------+--------------------+----------+\n",
      "only showing top 20 rows\n",
      "\n",
      "0.6494845360824743 0.7718205337690633\n"
     ]
    }
   ],
   "source": [
    "preds.show()\n",
    "\n",
    "print(evals.accuracy, evals.areaUnderROC)\n"
   ]
  },
  {
   "cell_type": "code",
   "execution_count": 66,
   "id": "f7448715",
   "metadata": {},
   "outputs": [
    {
     "data": {
      "text/plain": [
       "\"from pyspark.mllib.evaluation import BinaryClassificationMetrics\\n#convert to rdd cox of mllib pkg\\npredsa = preds.select('Outcome','prediction').rdd.map(lambda row: (float(row['probability'][1]), float(row['Outcome'])))\\nmetrics = BinaryClassificationMetrics(predsa)\""
      ]
     },
     "execution_count": 66,
     "metadata": {},
     "output_type": "execute_result"
    }
   ],
   "source": [
    "\"\"\"from pyspark.mllib.evaluation import BinaryClassificationMetrics\n",
    "#convert to rdd cox of mllib pkg\n",
    "predsa = preds.select('Outcome','prediction').rdd.map(lambda row: (float(row['probability'][1]), float(row['Outcome'])))\n",
    "metrics = BinaryClassificationMetrics(predsa)\"\"\""
   ]
  },
  {
   "cell_type": "code",
   "execution_count": 67,
   "id": "691e731a",
   "metadata": {},
   "outputs": [
    {
     "data": {
      "text/plain": [
       "'print(\"AUC\", metrics.areaUnderPR)'"
      ]
     },
     "execution_count": 67,
     "metadata": {},
     "output_type": "execute_result"
    }
   ],
   "source": [
    "\"\"\"print(\"AUC\", metrics.areaUnderPR)\"\"\""
   ]
  },
  {
   "cell_type": "code",
   "execution_count": 68,
   "id": "8085c419",
   "metadata": {},
   "outputs": [],
   "source": [
    "predy = preds.select('Outcome','rawPrediction', 'prediction')"
   ]
  },
  {
   "cell_type": "code",
   "execution_count": 69,
   "id": "06f7a1fa",
   "metadata": {},
   "outputs": [
    {
     "data": {
      "text/plain": [
       "0.7718205337690633"
      ]
     },
     "execution_count": 69,
     "metadata": {},
     "output_type": "execute_result"
    }
   ],
   "source": [
    "from pyspark.ml.evaluation import BinaryClassificationEvaluator, MulticlassClassificationEvaluator\n",
    "metric = BinaryClassificationEvaluator(rawPredictionCol=\"rawPrediction\", labelCol=\"Outcome\", metricName=\"areaUnderROC\")\n",
    "lrroc=metric.evaluate(predy)\n",
    "lrroc"
   ]
  },
  {
   "cell_type": "code",
   "execution_count": 70,
   "id": "12a1a046",
   "metadata": {},
   "outputs": [
    {
     "data": {
      "text/plain": [
       "0.6494845360824743"
      ]
     },
     "execution_count": 70,
     "metadata": {},
     "output_type": "execute_result"
    }
   ],
   "source": [
    "metrics = MulticlassClassificationEvaluator(predictionCol=\"prediction\", labelCol=\"Outcome\", metricName=\"accuracy\")\n",
    "lracc = metrics.evaluate(predy)\n",
    "lracc"
   ]
  },
  {
   "cell_type": "code",
   "execution_count": 71,
   "id": "be78990c",
   "metadata": {},
   "outputs": [],
   "source": [
    "\n",
    "rf = RandomForestClassifier(labelCol=\"Outcome\", featuresCol=\"scaledfeat\", numTrees=20)\n",
    "rfmod = rf.fit(train)\n",
    "pred = rfmod.transform(test)"
   ]
  },
  {
   "cell_type": "code",
   "execution_count": 72,
   "id": "56fa0f82",
   "metadata": {},
   "outputs": [],
   "source": [
    "predy = preds.select('Outcome','rawPrediction', 'prediction')"
   ]
  },
  {
   "cell_type": "code",
   "execution_count": 73,
   "id": "34fece18",
   "metadata": {},
   "outputs": [],
   "source": [
    "rfroc = metric.evaluate(predy)"
   ]
  },
  {
   "cell_type": "code",
   "execution_count": 74,
   "id": "3a611f69",
   "metadata": {},
   "outputs": [],
   "source": [
    "rfacc = metrics.evaluate(predy)"
   ]
  },
  {
   "cell_type": "code",
   "execution_count": 75,
   "id": "e87e1d0a",
   "metadata": {},
   "outputs": [],
   "source": [
    "ml = GBTClassifier(labelCol=\"Outcome\", featuresCol=(\"scaledfeat\"), maxDepth=10, maxIter=100)\n",
    "model = ml.fit(train)\n"
   ]
  },
  {
   "cell_type": "code",
   "execution_count": 76,
   "id": "34e95603",
   "metadata": {},
   "outputs": [],
   "source": [
    "preds = model.transform(test)\n",
    "\n",
    "#convert SparseVector -> DenseVector  which error occured during chisq selector"
   ]
  },
  {
   "cell_type": "code",
   "execution_count": 77,
   "id": "87db9f0d",
   "metadata": {},
   "outputs": [],
   "source": [
    "predy = preds.select('Outcome','rawPrediction', 'prediction')\n",
    "\n",
    "gbtroc=metric.evaluate(predy)"
   ]
  },
  {
   "cell_type": "code",
   "execution_count": 78,
   "id": "6f05d888",
   "metadata": {},
   "outputs": [],
   "source": [
    "gbtacc = metrics.evaluate(predy)"
   ]
  },
  {
   "cell_type": "code",
   "execution_count": 79,
   "id": "71cbe614",
   "metadata": {},
   "outputs": [
    {
     "name": "stdout",
     "output_type": "stream",
     "text": [
      "lrroc:0.7718205337690633,  rfroc:0.7718205337690633, gbtroc:1.0\n",
      "lracc:0.6494845360824743,  rfacc:0.6494845360824743, gbtacc:1.0\n"
     ]
    }
   ],
   "source": [
    "roc = [lrroc, rfroc, gbtroc]\n",
    "acc = [lracc, rfacc, gbtacc]\n",
    "print(f\"lrroc:{lrroc},  rfroc:{rfroc}, gbtroc:{gbtroc}\")\n",
    "print(f\"lracc:{lracc},  rfacc:{rfacc}, gbtacc:{gbtacc}\")"
   ]
  },
  {
   "cell_type": "code",
   "execution_count": 80,
   "id": "4e840610",
   "metadata": {},
   "outputs": [
    {
     "data": {
      "text/plain": [
       "array([1.14170283, 3.78316102, 3.57213203, 1.28804447, 0.69280035,\n",
       "       4.05994515, 1.42493685, 2.82802395])"
      ]
     },
     "execution_count": 80,
     "metadata": {},
     "output_type": "execute_result"
    }
   ],
   "source": [
    "from pyspark.mllib.stat import Statistics\n",
    "n = newdata.drop(\"Outcome\")\n",
    "n = newdata.select(newdata.scaledfeat).rdd.map(lambda row : row[0:])\n",
    "summary = Statistics.colStats(n)\n",
    "\n",
    "summary.mean() #variance, norm"
   ]
  },
  {
   "cell_type": "code",
   "execution_count": 81,
   "id": "13952a6e",
   "metadata": {},
   "outputs": [
    {
     "data": {
      "text/html": [
       "<div>\n",
       "<style scoped>\n",
       "    .dataframe tbody tr th:only-of-type {\n",
       "        vertical-align: middle;\n",
       "    }\n",
       "\n",
       "    .dataframe tbody tr th {\n",
       "        vertical-align: top;\n",
       "    }\n",
       "\n",
       "    .dataframe thead th {\n",
       "        text-align: right;\n",
       "    }\n",
       "</style>\n",
       "<table border=\"1\" class=\"dataframe\">\n",
       "  <thead>\n",
       "    <tr style=\"text-align: right;\">\n",
       "      <th></th>\n",
       "      <th>Pregnancies</th>\n",
       "      <th>Glucose</th>\n",
       "      <th>BloodPressure</th>\n",
       "      <th>SkinThickness</th>\n",
       "      <th>Insulin</th>\n",
       "      <th>BMI</th>\n",
       "      <th>DiabetesPedigreeFunction</th>\n",
       "      <th>Age</th>\n",
       "    </tr>\n",
       "  </thead>\n",
       "  <tbody>\n",
       "    <tr>\n",
       "      <th>Pregnancies</th>\n",
       "      <td>1.000000</td>\n",
       "      <td>0.129459</td>\n",
       "      <td>0.141282</td>\n",
       "      <td>-0.081672</td>\n",
       "      <td>-0.073535</td>\n",
       "      <td>0.017683</td>\n",
       "      <td>-0.033523</td>\n",
       "      <td>0.544341</td>\n",
       "    </tr>\n",
       "    <tr>\n",
       "      <th>Glucose</th>\n",
       "      <td>0.129459</td>\n",
       "      <td>1.000000</td>\n",
       "      <td>0.152590</td>\n",
       "      <td>0.057328</td>\n",
       "      <td>0.331357</td>\n",
       "      <td>0.221071</td>\n",
       "      <td>0.137337</td>\n",
       "      <td>0.263514</td>\n",
       "    </tr>\n",
       "    <tr>\n",
       "      <th>BloodPressure</th>\n",
       "      <td>0.141282</td>\n",
       "      <td>0.152590</td>\n",
       "      <td>1.000000</td>\n",
       "      <td>0.207371</td>\n",
       "      <td>0.088933</td>\n",
       "      <td>0.281805</td>\n",
       "      <td>0.041265</td>\n",
       "      <td>0.239528</td>\n",
       "    </tr>\n",
       "    <tr>\n",
       "      <th>SkinThickness</th>\n",
       "      <td>-0.081672</td>\n",
       "      <td>0.057328</td>\n",
       "      <td>0.207371</td>\n",
       "      <td>1.000000</td>\n",
       "      <td>0.436783</td>\n",
       "      <td>0.392573</td>\n",
       "      <td>0.183928</td>\n",
       "      <td>-0.113970</td>\n",
       "    </tr>\n",
       "    <tr>\n",
       "      <th>Insulin</th>\n",
       "      <td>-0.073535</td>\n",
       "      <td>0.331357</td>\n",
       "      <td>0.088933</td>\n",
       "      <td>0.436783</td>\n",
       "      <td>1.000000</td>\n",
       "      <td>0.197859</td>\n",
       "      <td>0.185071</td>\n",
       "      <td>-0.042163</td>\n",
       "    </tr>\n",
       "    <tr>\n",
       "      <th>BMI</th>\n",
       "      <td>0.017683</td>\n",
       "      <td>0.221071</td>\n",
       "      <td>0.281805</td>\n",
       "      <td>0.392573</td>\n",
       "      <td>0.197859</td>\n",
       "      <td>1.000000</td>\n",
       "      <td>0.140647</td>\n",
       "      <td>0.036242</td>\n",
       "    </tr>\n",
       "    <tr>\n",
       "      <th>DiabetesPedigreeFunction</th>\n",
       "      <td>-0.033523</td>\n",
       "      <td>0.137337</td>\n",
       "      <td>0.041265</td>\n",
       "      <td>0.183928</td>\n",
       "      <td>0.185071</td>\n",
       "      <td>0.140647</td>\n",
       "      <td>1.000000</td>\n",
       "      <td>0.033561</td>\n",
       "    </tr>\n",
       "    <tr>\n",
       "      <th>Age</th>\n",
       "      <td>0.544341</td>\n",
       "      <td>0.263514</td>\n",
       "      <td>0.239528</td>\n",
       "      <td>-0.113970</td>\n",
       "      <td>-0.042163</td>\n",
       "      <td>0.036242</td>\n",
       "      <td>0.033561</td>\n",
       "      <td>1.000000</td>\n",
       "    </tr>\n",
       "  </tbody>\n",
       "</table>\n",
       "</div>"
      ],
      "text/plain": [
       "                          Pregnancies   Glucose  BloodPressure  SkinThickness  \\\n",
       "Pregnancies                  1.000000  0.129459       0.141282      -0.081672   \n",
       "Glucose                      0.129459  1.000000       0.152590       0.057328   \n",
       "BloodPressure                0.141282  0.152590       1.000000       0.207371   \n",
       "SkinThickness               -0.081672  0.057328       0.207371       1.000000   \n",
       "Insulin                     -0.073535  0.331357       0.088933       0.436783   \n",
       "BMI                          0.017683  0.221071       0.281805       0.392573   \n",
       "DiabetesPedigreeFunction    -0.033523  0.137337       0.041265       0.183928   \n",
       "Age                          0.544341  0.263514       0.239528      -0.113970   \n",
       "\n",
       "                           Insulin       BMI  DiabetesPedigreeFunction  \\\n",
       "Pregnancies              -0.073535  0.017683                 -0.033523   \n",
       "Glucose                   0.331357  0.221071                  0.137337   \n",
       "BloodPressure             0.088933  0.281805                  0.041265   \n",
       "SkinThickness             0.436783  0.392573                  0.183928   \n",
       "Insulin                   1.000000  0.197859                  0.185071   \n",
       "BMI                       0.197859  1.000000                  0.140647   \n",
       "DiabetesPedigreeFunction  0.185071  0.140647                  1.000000   \n",
       "Age                      -0.042163  0.036242                  0.033561   \n",
       "\n",
       "                               Age  \n",
       "Pregnancies               0.544341  \n",
       "Glucose                   0.263514  \n",
       "BloodPressure             0.239528  \n",
       "SkinThickness            -0.113970  \n",
       "Insulin                  -0.042163  \n",
       "BMI                       0.036242  \n",
       "DiabetesPedigreeFunction  0.033561  \n",
       "Age                       1.000000  "
      ]
     },
     "execution_count": 81,
     "metadata": {},
     "output_type": "execute_result"
    }
   ],
   "source": [
    "correlat = Statistics.corr(n, method='pearson')\n",
    "import pandas as pd\n",
    "pddf= pd.DataFrame(correlat, columns=columnname[:-1], index=columnname[:-1])\n",
    "pddf\n"
   ]
  },
  {
   "cell_type": "code",
   "execution_count": 82,
   "id": "0abde9c6",
   "metadata": {},
   "outputs": [
    {
     "name": "stdout",
     "output_type": "stream",
     "text": [
      "DataFrame[Pregnancies: float, Glucose: float, BloodPressure: float, SkinThickness: float, Insulin: float, BMI: float, DiabetesPedigreeFunction: float, Age: float, feature: vector]\n"
     ]
    },
    {
     "name": "stderr",
     "output_type": "stream",
     "text": [
      "Traceback (most recent call last):\n",
      "  File \"C:\\spark-3.3.1-bin-hadoop2\\python\\pyspark\\serializers.py\", line 458, in dumps\n",
      "    return cloudpickle.dumps(obj, pickle_protocol)\n",
      "  File \"C:\\spark-3.3.1-bin-hadoop2\\python\\pyspark\\cloudpickle\\cloudpickle_fast.py\", line 73, in dumps\n",
      "    cp.dump(obj)\n",
      "  File \"C:\\spark-3.3.1-bin-hadoop2\\python\\pyspark\\cloudpickle\\cloudpickle_fast.py\", line 602, in dump\n",
      "    return Pickler.dump(self, obj)\n",
      "TypeError: cannot pickle '_thread.RLock' object\n"
     ]
    },
    {
     "ename": "PicklingError",
     "evalue": "Could not serialize object: TypeError: cannot pickle '_thread.RLock' object",
     "output_type": "error",
     "traceback": [
      "\u001b[1;31m---------------------------------------------------------------------------\u001b[0m",
      "\u001b[1;31mTypeError\u001b[0m                                 Traceback (most recent call last)",
      "File \u001b[1;32mC:\\spark-3.3.1-bin-hadoop2\\python\\pyspark\\serializers.py:458\u001b[0m, in \u001b[0;36mCloudPickleSerializer.dumps\u001b[1;34m(self, obj)\u001b[0m\n\u001b[0;32m    457\u001b[0m \u001b[38;5;28;01mtry\u001b[39;00m:\n\u001b[1;32m--> 458\u001b[0m     \u001b[38;5;28;01mreturn\u001b[39;00m \u001b[43mcloudpickle\u001b[49m\u001b[38;5;241;43m.\u001b[39;49m\u001b[43mdumps\u001b[49m\u001b[43m(\u001b[49m\u001b[43mobj\u001b[49m\u001b[43m,\u001b[49m\u001b[43m \u001b[49m\u001b[43mpickle_protocol\u001b[49m\u001b[43m)\u001b[49m\n\u001b[0;32m    459\u001b[0m \u001b[38;5;28;01mexcept\u001b[39;00m pickle\u001b[38;5;241m.\u001b[39mPickleError:\n",
      "File \u001b[1;32mC:\\spark-3.3.1-bin-hadoop2\\python\\pyspark\\cloudpickle\\cloudpickle_fast.py:73\u001b[0m, in \u001b[0;36mdumps\u001b[1;34m(obj, protocol, buffer_callback)\u001b[0m\n\u001b[0;32m     70\u001b[0m cp \u001b[38;5;241m=\u001b[39m CloudPickler(\n\u001b[0;32m     71\u001b[0m     file, protocol\u001b[38;5;241m=\u001b[39mprotocol, buffer_callback\u001b[38;5;241m=\u001b[39mbuffer_callback\n\u001b[0;32m     72\u001b[0m )\n\u001b[1;32m---> 73\u001b[0m \u001b[43mcp\u001b[49m\u001b[38;5;241;43m.\u001b[39;49m\u001b[43mdump\u001b[49m\u001b[43m(\u001b[49m\u001b[43mobj\u001b[49m\u001b[43m)\u001b[49m\n\u001b[0;32m     74\u001b[0m \u001b[38;5;28;01mreturn\u001b[39;00m file\u001b[38;5;241m.\u001b[39mgetvalue()\n",
      "File \u001b[1;32mC:\\spark-3.3.1-bin-hadoop2\\python\\pyspark\\cloudpickle\\cloudpickle_fast.py:602\u001b[0m, in \u001b[0;36mCloudPickler.dump\u001b[1;34m(self, obj)\u001b[0m\n\u001b[0;32m    601\u001b[0m \u001b[38;5;28;01mtry\u001b[39;00m:\n\u001b[1;32m--> 602\u001b[0m     \u001b[38;5;28;01mreturn\u001b[39;00m \u001b[43mPickler\u001b[49m\u001b[38;5;241;43m.\u001b[39;49m\u001b[43mdump\u001b[49m\u001b[43m(\u001b[49m\u001b[38;5;28;43mself\u001b[39;49m\u001b[43m,\u001b[49m\u001b[43m \u001b[49m\u001b[43mobj\u001b[49m\u001b[43m)\u001b[49m\n\u001b[0;32m    603\u001b[0m \u001b[38;5;28;01mexcept\u001b[39;00m \u001b[38;5;167;01mRuntimeError\u001b[39;00m \u001b[38;5;28;01mas\u001b[39;00m e:\n",
      "\u001b[1;31mTypeError\u001b[0m: cannot pickle '_thread.RLock' object",
      "\nDuring handling of the above exception, another exception occurred:\n",
      "\u001b[1;31mPicklingError\u001b[0m                             Traceback (most recent call last)",
      "Cell \u001b[1;32mIn [82], line 7\u001b[0m\n\u001b[0;32m      5\u001b[0m \u001b[38;5;28mprint\u001b[39m(n)\n\u001b[0;32m      6\u001b[0m columnname\u001b[38;5;241m=\u001b[39mcolumnname[:\u001b[38;5;241m-\u001b[39m\u001b[38;5;241m1\u001b[39m]\n\u001b[1;32m----> 7\u001b[0m a\u001b[38;5;241m=\u001b[39m\u001b[43msummary\u001b[49m\u001b[38;5;241;43m.\u001b[39;49m\u001b[43mcorr\u001b[49m\u001b[43m(\u001b[49m\u001b[43mdataset\u001b[49m\u001b[38;5;241;43m=\u001b[39;49m\u001b[43mn\u001b[49m\u001b[38;5;241;43m.\u001b[39;49m\u001b[43mfeature\u001b[49m\u001b[43m,\u001b[49m\u001b[43m \u001b[49m\u001b[43mcolumn\u001b[49m\u001b[38;5;241;43m=\u001b[39;49m\u001b[43mcolumnname\u001b[49m\u001b[43m)\u001b[49m \u001b[38;5;66;03m#variance, norm\u001b[39;00m\n\u001b[0;32m      8\u001b[0m a\n",
      "File \u001b[1;32mC:\\spark-3.3.1-bin-hadoop2\\python\\pyspark\\ml\\stat.py:180\u001b[0m, in \u001b[0;36mCorrelation.corr\u001b[1;34m(dataset, column, method)\u001b[0m\n\u001b[0;32m    177\u001b[0m \u001b[38;5;28;01massert\u001b[39;00m sc \u001b[38;5;129;01mis\u001b[39;00m \u001b[38;5;129;01mnot\u001b[39;00m \u001b[38;5;28;01mNone\u001b[39;00m\n\u001b[0;32m    179\u001b[0m javaCorrObj \u001b[38;5;241m=\u001b[39m _jvm()\u001b[38;5;241m.\u001b[39morg\u001b[38;5;241m.\u001b[39mapache\u001b[38;5;241m.\u001b[39mspark\u001b[38;5;241m.\u001b[39mml\u001b[38;5;241m.\u001b[39mstat\u001b[38;5;241m.\u001b[39mCorrelation\n\u001b[1;32m--> 180\u001b[0m args \u001b[38;5;241m=\u001b[39m [_py2java(sc, arg) \u001b[38;5;28;01mfor\u001b[39;00m arg \u001b[38;5;129;01min\u001b[39;00m (dataset, column, method)]\n\u001b[0;32m    181\u001b[0m \u001b[38;5;28;01mreturn\u001b[39;00m _java2py(sc, javaCorrObj\u001b[38;5;241m.\u001b[39mcorr(\u001b[38;5;241m*\u001b[39margs))\n",
      "File \u001b[1;32mC:\\spark-3.3.1-bin-hadoop2\\python\\pyspark\\ml\\stat.py:180\u001b[0m, in \u001b[0;36m<listcomp>\u001b[1;34m(.0)\u001b[0m\n\u001b[0;32m    177\u001b[0m \u001b[38;5;28;01massert\u001b[39;00m sc \u001b[38;5;129;01mis\u001b[39;00m \u001b[38;5;129;01mnot\u001b[39;00m \u001b[38;5;28;01mNone\u001b[39;00m\n\u001b[0;32m    179\u001b[0m javaCorrObj \u001b[38;5;241m=\u001b[39m _jvm()\u001b[38;5;241m.\u001b[39morg\u001b[38;5;241m.\u001b[39mapache\u001b[38;5;241m.\u001b[39mspark\u001b[38;5;241m.\u001b[39mml\u001b[38;5;241m.\u001b[39mstat\u001b[38;5;241m.\u001b[39mCorrelation\n\u001b[1;32m--> 180\u001b[0m args \u001b[38;5;241m=\u001b[39m [\u001b[43m_py2java\u001b[49m\u001b[43m(\u001b[49m\u001b[43msc\u001b[49m\u001b[43m,\u001b[49m\u001b[43m \u001b[49m\u001b[43marg\u001b[49m\u001b[43m)\u001b[49m \u001b[38;5;28;01mfor\u001b[39;00m arg \u001b[38;5;129;01min\u001b[39;00m (dataset, column, method)]\n\u001b[0;32m    181\u001b[0m \u001b[38;5;28;01mreturn\u001b[39;00m _java2py(sc, javaCorrObj\u001b[38;5;241m.\u001b[39mcorr(\u001b[38;5;241m*\u001b[39margs))\n",
      "File \u001b[1;32mC:\\spark-3.3.1-bin-hadoop2\\python\\pyspark\\ml\\common.py:88\u001b[0m, in \u001b[0;36m_py2java\u001b[1;34m(sc, obj)\u001b[0m\n\u001b[0;32m     86\u001b[0m     \u001b[38;5;28;01mpass\u001b[39;00m\n\u001b[0;32m     87\u001b[0m \u001b[38;5;28;01melse\u001b[39;00m:\n\u001b[1;32m---> 88\u001b[0m     data \u001b[38;5;241m=\u001b[39m \u001b[38;5;28mbytearray\u001b[39m(\u001b[43mCPickleSerializer\u001b[49m\u001b[43m(\u001b[49m\u001b[43m)\u001b[49m\u001b[38;5;241;43m.\u001b[39;49m\u001b[43mdumps\u001b[49m\u001b[43m(\u001b[49m\u001b[43mobj\u001b[49m\u001b[43m)\u001b[49m)\n\u001b[0;32m     89\u001b[0m     \u001b[38;5;28;01massert\u001b[39;00m sc\u001b[38;5;241m.\u001b[39m_jvm \u001b[38;5;129;01mis\u001b[39;00m \u001b[38;5;129;01mnot\u001b[39;00m \u001b[38;5;28;01mNone\u001b[39;00m\n\u001b[0;32m     90\u001b[0m     obj \u001b[38;5;241m=\u001b[39m sc\u001b[38;5;241m.\u001b[39m_jvm\u001b[38;5;241m.\u001b[39morg\u001b[38;5;241m.\u001b[39mapache\u001b[38;5;241m.\u001b[39mspark\u001b[38;5;241m.\u001b[39mml\u001b[38;5;241m.\u001b[39mpython\u001b[38;5;241m.\u001b[39mMLSerDe\u001b[38;5;241m.\u001b[39mloads(data)\n",
      "File \u001b[1;32mC:\\spark-3.3.1-bin-hadoop2\\python\\pyspark\\serializers.py:468\u001b[0m, in \u001b[0;36mCloudPickleSerializer.dumps\u001b[1;34m(self, obj)\u001b[0m\n\u001b[0;32m    466\u001b[0m     msg \u001b[38;5;241m=\u001b[39m \u001b[38;5;124m\"\u001b[39m\u001b[38;5;124mCould not serialize object: \u001b[39m\u001b[38;5;132;01m%s\u001b[39;00m\u001b[38;5;124m: \u001b[39m\u001b[38;5;132;01m%s\u001b[39;00m\u001b[38;5;124m\"\u001b[39m \u001b[38;5;241m%\u001b[39m (e\u001b[38;5;241m.\u001b[39m\u001b[38;5;18m__class__\u001b[39m\u001b[38;5;241m.\u001b[39m\u001b[38;5;18m__name__\u001b[39m, emsg)\n\u001b[0;32m    467\u001b[0m print_exec(sys\u001b[38;5;241m.\u001b[39mstderr)\n\u001b[1;32m--> 468\u001b[0m \u001b[38;5;28;01mraise\u001b[39;00m pickle\u001b[38;5;241m.\u001b[39mPicklingError(msg)\n",
      "\u001b[1;31mPicklingError\u001b[0m: Could not serialize object: TypeError: cannot pickle '_thread.RLock' object"
     ]
    }
   ],
   "source": [
    "from pyspark.ml.stat import Correlation\n",
    "n = newd.drop('Outcome')\n",
    "n = n.drop('features')\n",
    "summary = Correlation()\n",
    "print(n)\n",
    "columnname=columnname[:-1]\n",
    "a=summary.corr(dataset=n.feature, column=columnname) #variance, norm\n",
    "a"
   ]
  },
  {
   "cell_type": "code",
   "execution_count": 83,
   "id": "df0d28e2",
   "metadata": {},
   "outputs": [
    {
     "name": "stdout",
     "output_type": "stream",
     "text": [
      "+-----------+-------+-------------+-------------+-------+----+------------------------+----+--------------------+\n",
      "|Pregnancies|Glucose|BloodPressure|SkinThickness|Insulin| BMI|DiabetesPedigreeFunction| Age|             feature|\n",
      "+-----------+-------+-------------+-------------+-------+----+------------------------+----+--------------------+\n",
      "|        6.0|  148.0|         72.0|         35.0|    0.0|33.6|                   0.627|50.0|[6.0,148.0,72.0,3...|\n",
      "|        1.0|   85.0|         66.0|         29.0|    0.0|26.6|                   0.351|31.0|[1.0,85.0,66.0,29...|\n",
      "|        8.0|  183.0|         64.0|          0.0|    0.0|23.3|                   0.672|32.0|[8.0,183.0,64.0,0...|\n",
      "|        1.0|   89.0|         66.0|         23.0|   94.0|28.1|                   0.167|21.0|[1.0,89.0,66.0,23...|\n",
      "|        0.0|  137.0|         40.0|         35.0|  168.0|43.1|                   2.288|33.0|[0.0,137.0,40.0,3...|\n",
      "|        5.0|  116.0|         74.0|          0.0|    0.0|25.6|                   0.201|30.0|[5.0,116.0,74.0,0...|\n",
      "|        3.0|   78.0|         50.0|         32.0|   88.0|31.0|                   0.248|26.0|[3.0,78.0,50.0,32...|\n",
      "|       10.0|  115.0|          0.0|          0.0|    0.0|35.3|                   0.134|29.0|[10.0,115.0,0.0,0...|\n",
      "|        2.0|  197.0|         70.0|         45.0|  543.0|30.5|                   0.158|53.0|[2.0,197.0,70.0,4...|\n",
      "|        8.0|  125.0|         96.0|          0.0|    0.0| 0.0|                   0.232|54.0|[8.0,125.0,96.0,0...|\n",
      "|        4.0|  110.0|         92.0|          0.0|    0.0|37.6|                   0.191|30.0|[4.0,110.0,92.0,0...|\n",
      "|       10.0|  168.0|         74.0|          0.0|    0.0|38.0|                   0.537|34.0|[10.0,168.0,74.0,...|\n",
      "|       10.0|  139.0|         80.0|          0.0|    0.0|27.1|                   1.441|57.0|[10.0,139.0,80.0,...|\n",
      "|        1.0|  189.0|         60.0|         23.0|  846.0|30.1|                   0.398|59.0|[1.0,189.0,60.0,2...|\n",
      "|        5.0|  166.0|         72.0|         19.0|  175.0|25.8|                   0.587|51.0|[5.0,166.0,72.0,1...|\n",
      "|        7.0|  100.0|          0.0|          0.0|    0.0|30.0|                   0.484|32.0|[7.0,100.0,0.0,0....|\n",
      "|        0.0|  118.0|         84.0|         47.0|  230.0|45.8|                   0.551|31.0|[0.0,118.0,84.0,4...|\n",
      "|        7.0|  107.0|         74.0|          0.0|    0.0|29.6|                   0.254|31.0|[7.0,107.0,74.0,0...|\n",
      "|        1.0|  103.0|         30.0|         38.0|   83.0|43.3|                   0.183|33.0|[1.0,103.0,30.0,3...|\n",
      "|        1.0|  115.0|         70.0|         30.0|   96.0|34.6|                   0.529|32.0|[1.0,115.0,70.0,3...|\n",
      "+-----------+-------+-------------+-------------+-------+----+------------------------+----+--------------------+\n",
      "only showing top 20 rows\n",
      "\n"
     ]
    }
   ],
   "source": [
    "n.show()"
   ]
  },
  {
   "cell_type": "code",
   "execution_count": null,
   "id": "98014037",
   "metadata": {},
   "outputs": [],
   "source": []
  }
 ],
 "metadata": {
  "kernelspec": {
   "display_name": "Python 3 (ipykernel)",
   "language": "python",
   "name": "python3"
  },
  "language_info": {
   "codemirror_mode": {
    "name": "ipython",
    "version": 3
   },
   "file_extension": ".py",
   "mimetype": "text/x-python",
   "name": "python",
   "nbconvert_exporter": "python",
   "pygments_lexer": "ipython3",
   "version": "3.8.13"
  }
 },
 "nbformat": 4,
 "nbformat_minor": 5
}
